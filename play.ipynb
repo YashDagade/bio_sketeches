{
 "cells": [
  {
   "cell_type": "code",
   "execution_count": 1,
   "metadata": {},
   "outputs": [
    {
     "name": "stdout",
     "output_type": "stream",
     "text": [
      "['https://www.linkedin.com/in/yashdagade', 'https://cse.umn.edu/me/news/future-me-eden-prairie-high-school-student-wins-state-science-fair', 'https://www.yashdagade.com/index.html', 'https://cse.umn.edu/aem/news/future-mechanical-engineering-eden-prairie-high-school-student-wins-state-science-fair', 'https://www.cbsnews.com/minnesota/news/twin-cities-nonprofit-funding-high-school-groups-device-to-curb-distracted-driving/', 'https://www.startribune.com/eden-prairie-students-developing-distracted-driving-warning-device/600194593', 'https://www.kare11.com/article/news/local/kare11-sunrise/eden-prairie-distraction-free-driving-club-eyedas/89-e3831ebe-e3f2-40cc-8579-432a2615e15c']\n"
     ]
    }
   ],
   "source": [
    "import pandas as pd\n",
    "import requests\n",
    "from bs4 import BeautifulSoup\n",
    "import re\n",
    "import os\n",
    "import time\n",
    "from typing import List\n",
    "from pydantic import BaseModel\n",
    "import openai\n",
    "from tqdm import tqdm\n",
    "\n",
    "openai.api_key = os.getenv(\"OPENAI_API_KEY\")\n",
    "\n",
    "def serach(query: str) -> List[str]:\n",
    "    search_url = \"https://html.duckduckgo.com/html/\"\n",
    "    params = {\n",
    "        'q': query\n",
    "    }\n",
    "    headers = {\n",
    "        'User-Agent': 'Mozilla/5.0'\n",
    "    }\n",
    "    try:\n",
    "        response = requests.post(search_url, data=params, headers=headers, timeout=10)\n",
    "        response.raise_for_status()\n",
    "    except Exception as e:\n",
    "        print(f\"Error during DuckDuckGo search for query '{query}': {e}\")\n",
    "        return []\n",
    "\n",
    "    soup = BeautifulSoup(response.text, 'html.parser')\n",
    "    links = []\n",
    "    for result in soup.find_all('a', {'class': 'result__a'}, href=True):\n",
    "        links.append(result['href'])\n",
    "        if len(links) >= 7:\n",
    "            break\n",
    "    return links\n",
    "            \n",
    "print(serach(\"yash dagade\"))\n",
    "\n",
    "def extract_text(url: str, max_chars: int = 10000) -> str:\n",
    "    headers = {\n",
    "        'User-Agent': 'Mozilla/5.0'\n",
    "    }\n",
    "    try:\n",
    "        response = requests.get(url, headers=headers, timeout=10)\n",
    "        response.raise_for_status()\n",
    "    except requests.exceptions.HTTPError as e:\n",
    "        print(f\"HTTP error occurred: {e}\")\n",
    "        return \"\"\n",
    "    except Exception as e:\n",
    "        print(f\"An error occurred: {e}\")\n",
    "        return \"\"\n",
    "    \n",
    "    soup = BeautifulSoup(response.text, 'html.parser')\n",
    "    \n",
    "    for script in soup([\"script\", \"style\"]):\n",
    "        script.decompose()\n",
    "        \n",
    "    text = soup.get_text(separator=\" \", strip=True)\n",
    "    return text[:max_chars]\n",
    "\n",
    "\n",
    "# print(extract_text(\"https://cse.umn.edu/me/news/future-me-eden-prairie-high-school-student-wins-state-science-fair\"))\n",
    "\n",
    "def get_text(querey: str, max_chars: int = 10000) -> (str, List[str]):\n",
    "    urls = serach(querey)\n",
    "    texts = []\n",
    "    for url in urls:\n",
    "        text = extract_text(url, max_chars)\n",
    "        if text:\n",
    "            texts.append(text)\n",
    "        time.sleep(1)  # Respectful delay between requests\n",
    "    combined_text = \"\\n\\n\".join(texts)\n",
    "    return combined_text, urls\n",
    "\n",
    "\n",
    "test_example = str(get_text(\"yash dagade\"))\n"
   ]
  },
  {
   "cell_type": "code",
   "execution_count": 2,
   "metadata": {},
   "outputs": [],
   "source": [
    "class GPTResponse(BaseModel):\n",
    "    summary: str\n",
    "    urls: List[str]\n",
    "    fun_fact: str\n",
    "    age: int\n",
    "    net_worth: int\n",
    "    \n",
    "def gpt_request(query: str) -> GPTResponse:\n",
    "    prompt = f\"Based on the following information, fill out a summary, fun fact, age, and net worth of the person: \\n\\n{query}\\n\\n Find the follwoing Summary: \\nFun fact: \\nAge: \\nNet worth: \\n\\n\\n Please provide the output in JSON format ensuring that the types are as follows: summary: str     urls: List[str]     fun_fact: str     age: int     net_worth: int \" \n",
    "    response = openai.beta.chat.completions.parse(\n",
    "        model = \"gpt-4o-mini\", \n",
    "        messages=[\n",
    "            {\"role\": \"system\", \"content\": \"You are an assistant that structures professional profiles based on provided information. You are to make educated guesses based on the information provided.\"},\n",
    "            {\"role\": \"user\", \"content\": prompt}\n",
    "        ],\n",
    "        response_format=GPTResponse\n",
    "    )\n",
    "    return response.choices[0].message.parsed\n",
    "\n",
    "yash_information = gpt_request(test_example)"
   ]
  },
  {
   "cell_type": "code",
   "execution_count": 3,
   "metadata": {},
   "outputs": [
    {
     "name": "stdout",
     "output_type": "stream",
     "text": [
      "\n",
      "Age: 17\n",
      "Net Worth: 0\n",
      "Fun Fact: Yash Dagade not only won multiple awards at science fairs but is also leading a project aimed at developing a device to curb distracted driving, showing a commitment to both clean energy and public safety.\n",
      "Summary: Yash Dagade is an innovative 11th-grade student from Eden Prairie High School who recently won the state science fair for his project on high-altitude wind energy. He conducted research in the Plasma Power Propulsion Lab at the University of Minnesota, resulting in a vertical airborne wind turbine project that secured five regional awards and two at the state level. Additionally, Yash is a leading developer of a device to reduce distracted driving, aiming to create accessible technology for safer driving practices. He plans to study mechanical engineering after high school and has ambitions to impact clean energy solutions.\n",
      "\n"
     ]
    }
   ],
   "source": [
    "print(f\"\"\"\n",
    "Age: {yash_information.age}\n",
    "Net Worth: {yash_information.net_worth}\n",
    "Fun Fact: {yash_information.fun_fact}\n",
    "Summary: {yash_information.summary}\n",
    "\"\"\")"
   ]
  },
  {
   "cell_type": "code",
   "execution_count": 4,
   "metadata": {},
   "outputs": [],
   "source": [
    "def scrape_person(name: str) -> str:\n",
    "    model_input = str(get_text(name)) # returns the text and urls for that person\n",
    "    model_output = gpt_request(model_input) # returns the age, net worth, fun fact, and summary\n",
    "    \n",
    "    return f\"\"\"\n",
    "    Age: {model_output.age}\n",
    "    Net Worth: {model_output.net_worth}\n",
    "    Fun Fact: {model_output.fun_fact}\n",
    "    Summary: {model_output.summary}\n",
    "    \"\"\"\n",
    "    \n",
    "# scrape_person(\"yash dagade\")"
   ]
  },
  {
   "cell_type": "code",
   "execution_count": 5,
   "metadata": {},
   "outputs": [
    {
     "name": "stdout",
     "output_type": "stream",
     "text": [
      "\n",
      "    Age: 16\n",
      "    Net Worth: 100000\n",
      "    Fun Fact: Yash is actively involved in multiple engineering projects, including one that aims to harness high-altitude wind power and another that creates a device to help prevent distracted driving, demonstrating his diverse interests in technology and safety.\n",
      "    Summary: Yash Dagade is an accomplished 11th grade student from Eden Prairie High School focused on mechanical engineering and clean energy solutions. He achieved recognition for his innovative project, a vertical airborne wind farm prototype, which won multiple awards at both regional and state science fairs, allowing him to advance to the International Science and Engineering Fair. He is also actively involved in developing a device to curb distracted driving, showcasing his commitment to safety and technology in the community.\n",
      "    \n"
     ]
    }
   ],
   "source": [
    "print(scrape_person(\"yash dagade\"))"
   ]
  },
  {
   "cell_type": "code",
   "execution_count": 7,
   "metadata": {},
   "outputs": [
    {
     "name": "stdout",
     "output_type": "stream",
     "text": [
      "HTTP error occurred: 403 Client Error: Forbidden for url: https://olhscurrent.org/25185/showcase/one-year-one-percent-chance-two-million-dollars/\n",
      "HTTP error occurred: 403 Client Error: Forbidden for url: https://pitchbook.com/profiles/company/638174-53\n",
      "\n",
      "    Age: 25\n",
      "    Net Worth: 1000000\n",
      "    Fun Fact: Ayush successfully grew a tutoring program from 0 to 82 schools, which was subsequently acquired by the school board.\n",
      "    Summary: Ayush Jain is the Co-Founder and CEO of Syntra, a healthcare software company backed by Y Combinator, dedicated to revolutionizing electronic health records (EHR) for private practice doctors by automating administrative tasks and enabling better insights into treatment efficacies. His work focuses on improving healthcare accessibility, especially in aging therapies, and he has been recognized as a TIME Fellow for contributions to the fields of healthcare and AI.\n",
      "    \n"
     ]
    }
   ],
   "source": [
    "print(scrape_person(\"ayush jain Syntra\"))"
   ]
  },
  {
   "cell_type": "code",
   "execution_count": null,
   "metadata": {},
   "outputs": [
    {
     "name": "stdout",
     "output_type": "stream",
     "text": [
      "\n",
      "    Age: 58\n",
      "    Net Worth: 10000\n",
      "    Fun Fact: Despite his conviction, Mason had been involved in the community and previously worked in various capacities, though his current situation dramatically contrasts his past roles.\n",
      "    Summary: Brian Mason, a 58-year-old man, was sentenced to eight years in prison for the reckless homicide of his lifelong friend, Michelle Elliott, who was accidentally shot while he was showing her a gun. The tragic incident occurred on March 26, 2023, and Mason was later found guilty of felony reckless homicide along with charges related to possessing a firearm while under disability due to a previous conviction. His actions, described as lawless and reckless by the presiding judge, have sparked controversy and discussion within the local community.\n",
      "    \n"
     ]
    }
   ],
   "source": [
    "print(scrape_person(\"Brian Mason\"))"
   ]
  },
  {
   "cell_type": "code",
   "execution_count": 39,
   "metadata": {},
   "outputs": [
    {
     "name": "stdout",
     "output_type": "stream",
     "text": [
      "HTTP error occurred: 403 Client Error: Forbidden for url: https://www.researchgate.net/profile/Daniel-Bao\n",
      "\n",
      "    Age: 26\n",
      "    Net Worth: 50000\n",
      "    Fun Fact: Dr. Bao has a keen interest in Clinical Informatics and combines his medical expertise with machine learning skills.\n",
      "    Summary: Dr. Daniel Bao is a physician specializing in Diagnostic Radiology, practicing in Kingwood, Texas. He graduated from the University of Texas Medical Branch at Galveston in 2023 and currently works at HCA Houston Healthcare Kingwood. Despite being early in his career, he is actively involved in clinical informatics and has a background in machine learning with Python.\n",
      "    \n"
     ]
    }
   ],
   "source": [
    "print(scrape_person(\"Daniel Bao\"))"
   ]
  }
 ],
 "metadata": {
  "kernelspec": {
   "display_name": "base",
   "language": "python",
   "name": "python3"
  },
  "language_info": {
   "codemirror_mode": {
    "name": "ipython",
    "version": 3
   },
   "file_extension": ".py",
   "mimetype": "text/x-python",
   "name": "python",
   "nbconvert_exporter": "python",
   "pygments_lexer": "ipython3",
   "version": "3.12.4"
  }
 },
 "nbformat": 4,
 "nbformat_minor": 2
}
