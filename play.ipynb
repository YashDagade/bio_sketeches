{
 "cells": [
  {
   "cell_type": "code",
   "execution_count": 31,
   "metadata": {},
   "outputs": [
    {
     "name": "stdout",
     "output_type": "stream",
     "text": [
      "['https://cse.umn.edu/me/news/future-me-eden-prairie-high-school-student-wins-state-science-fair', 'https://www.yashdagade.com/index.html', 'https://www.linkedin.com/in/yashdagade', 'https://cse.umn.edu/aem/news/future-mechanical-engineering-eden-prairie-high-school-student-wins-state-science-fair', 'https://www.kare11.com/article/news/local/kare11-sunrise/eden-prairie-distraction-free-driving-club-eyedas/89-e3831ebe-e3f2-40cc-8579-432a2615e15c', 'https://www.eplocalnews.org/2024/02/16/eagles-swim-and-dive-outpaced-stma-celebrated-senior-night/', 'https://www.eplocalnews.org/2023/04/10/ephs-junior-one-of-four-finalists-in-science-competition/']\n"
     ]
    }
   ],
   "source": [
    "import pandas as pd\n",
    "import requests\n",
    "from bs4 import BeautifulSoup\n",
    "import re\n",
    "import os\n",
    "import time\n",
    "from typing import List\n",
    "from pydantic import BaseModel\n",
    "import openai\n",
    "from tqdm import tqdm\n",
    "\n",
    "openai.api_key = os.getenv(\"OPENAI_API_KEY\")\n",
    "\n",
    "def serach(query: str) -> List[str]:\n",
    "    search_url = \"https://html.duckduckgo.com/html/\"\n",
    "    params = {\n",
    "        'q': query\n",
    "    }\n",
    "    headers = {\n",
    "        'User-Agent': 'Mozilla/5.0'\n",
    "    }\n",
    "    try:\n",
    "        response = requests.post(search_url, data=params, headers=headers, timeout=10)\n",
    "        response.raise_for_status()\n",
    "    except Exception as e:\n",
    "        print(f\"Error during DuckDuckGo search for query '{query}': {e}\")\n",
    "        return []\n",
    "\n",
    "    soup = BeautifulSoup(response.text, 'html.parser')\n",
    "    links = []\n",
    "    for result in soup.find_all('a', {'class': 'result__a'}, href=True):\n",
    "        links.append(result['href'])\n",
    "        if len(links) >= 7:\n",
    "            break\n",
    "    return links\n",
    "            \n",
    "print(serach(\"yash dagade\"))\n",
    "\n",
    "def extract_text(url: str, max_chars: int = 10000) -> str:\n",
    "    headers = {\n",
    "        'User-Agent': 'Mozilla/5.0'\n",
    "    }\n",
    "    try:\n",
    "        response = requests.get(url, headers=headers, timeout=10)\n",
    "        response.raise_for_status()\n",
    "    except requests.exceptions.HTTPError as e:\n",
    "        print(f\"HTTP error occurred: {e}\")\n",
    "        return \"\"\n",
    "    except Exception as e:\n",
    "        print(f\"An error occurred: {e}\")\n",
    "        return \"\"\n",
    "    \n",
    "    soup = BeautifulSoup(response.text, 'html.parser')\n",
    "    \n",
    "    for script in soup([\"script\", \"style\"]):\n",
    "        script.decompose()\n",
    "        \n",
    "    text = soup.get_text(separator=\" \", strip=True)\n",
    "    return text[:max_chars]\n",
    "\n",
    "\n",
    "# print(extract_text(\"https://cse.umn.edu/me/news/future-me-eden-prairie-high-school-student-wins-state-science-fair\"))\n",
    "\n",
    "def get_text(querey: str, max_chars: int = 10000) -> (str, List[str]):\n",
    "    urls = serach(querey)\n",
    "    texts = []\n",
    "    for url in urls:\n",
    "        text = extract_text(url, max_chars)\n",
    "        if text:\n",
    "            texts.append(text)\n",
    "        time.sleep(1)  # Respectful delay between requests\n",
    "    combined_text = \"\\n\\n\".join(texts)\n",
    "    return combined_text, urls\n",
    "\n",
    "\n",
    "test_example = str(get_text(\"yash dagade\"))\n"
   ]
  },
  {
   "cell_type": "code",
   "execution_count": 32,
   "metadata": {},
   "outputs": [],
   "source": [
    "class GPTResponse(BaseModel):\n",
    "    summary: str\n",
    "    urls: List[str]\n",
    "    fun_fact: str\n",
    "    age: int\n",
    "    net_worth: int\n",
    "    \n",
    "def gpt_request(query: str) -> GPTResponse:\n",
    "    prompt = f\"Based on the following information, fill out a summary, fun fact, age, and net worth of the person: \\n\\n{query}\\n\\n Find the follwoing Summary: \\nFun fact: \\nAge: \\nNet worth: \\n\\n\\n Please provide the output in JSON format ensuring that the types are as follows: summary: str     urls: List[str]     fun_fact: str     age: int     net_worth: int \" \n",
    "    response = openai.beta.chat.completions.parse(\n",
    "        model = \"gpt-4o-mini\", \n",
    "        messages=[\n",
    "            {\"role\": \"system\", \"content\": \"You are an assistant that structures professional profiles based on provided information. You are to make educated guesses based on the information provided.\"},\n",
    "            {\"role\": \"user\", \"content\": prompt}\n",
    "        ],\n",
    "        response_format=GPTResponse\n",
    "    )\n",
    "    return response.choices[0].message.parsed\n",
    "\n",
    "yash_information = gpt_request(test_example)"
   ]
  },
  {
   "cell_type": "code",
   "execution_count": 33,
   "metadata": {},
   "outputs": [
    {
     "name": "stdout",
     "output_type": "stream",
     "text": [
      "\n",
      "Age: 17\n",
      "Net Worth: 0\n",
      "Fun Fact: In his spare time, Yash has volunteered to restore vintage airplanes.\n",
      "Summary: Yash Dagade is an accomplished 11th-grade student from Eden Prairie High School who recently won the Minnesota State Science Fair with his innovative project, \"WATT from VAWT: Design of A Novel Vertical Airborne Wind Turbine (VAWT) Clean Energy Farm.\" Through his work in high-altitude wind energy, he has achieved significant recognition, including advancing to the International Science and Engineering Fair. He has also collaborated with graduate students and professors in the field of mechanical engineering, showcasing his talent and dedication to renewable energy solutions.\n",
      "\n"
     ]
    }
   ],
   "source": [
    "print(f\"\"\"\n",
    "Age: {yash_information.age}\n",
    "Net Worth: {yash_information.net_worth}\n",
    "Fun Fact: {yash_information.fun_fact}\n",
    "Summary: {yash_information.summary}\n",
    "\"\"\")"
   ]
  },
  {
   "cell_type": "code",
   "execution_count": null,
   "metadata": {},
   "outputs": [
    {
     "data": {
      "text/plain": [
       "'\\n    Age: 17\\n    Net Worth: 0\\n    Fun Fact: Yash Dagade developed an AI-based device, EyeDAS, to help reduce distracted driving, which he created during his time working with the Distraction Free Driving Club at his high school.\\n    Summary: Yash Dagade, an accomplished 11th-grade student from Eden Prairie High School, has demonstrated remarkable talent and initiative in mechanical engineering and clean energy innovations. He has been actively involved in notable projects such as a vertical airborne wind turbine that won multiple awards at state and regional science fairs, and an AI-driven device to reduce distracted driving. Currently preparing for advanced studies in mechanical engineering, he showcased his work at the International Science and Engineering Fair, highlighting his contributions to sustainable energy solutions and vehicle safety technologies. As an incoming student at Duke University, Yash combines his academic pursuits with a passion for building innovative projects.\\n    '"
      ]
     },
     "execution_count": 35,
     "metadata": {},
     "output_type": "execute_result"
    }
   ],
   "source": [
    "def scrape_person(name: str) -> str:\n",
    "    model_input = str(get_text(name)) # returns the text and urls for that person\n",
    "    model_output = gpt_request(model_input) # returns the age, net worth, fun fact, and summary\n",
    "    \n",
    "    return f\"\"\"\n",
    "    Age: {model_output.age}\n",
    "    Net Worth: {model_output.net_worth}\n",
    "    Fun Fact: {model_output.fun_fact}\n",
    "    Summary: {model_output.summary}\n",
    "    \"\"\"\n",
    "    \n",
    "# scrape_person(\"yash dagade\")"
   ]
  },
  {
   "cell_type": "code",
   "execution_count": null,
   "metadata": {},
   "outputs": [
    {
     "name": "stdout",
     "output_type": "stream",
     "text": [
      "\n",
      "    Age: 17\n",
      "    Net Worth: 0\n",
      "    Fun Fact: Yash co-invented the EyeDAS device to aid in reducing distracted driving, showcasing his commitment to practical engineering solutions.\n",
      "    Summary: Yash Dagade is an exemplary student in 11th grade at Eden Prairie High School, known for his innovative research in mechanical engineering and energy. He won the state science fair with his project on a vertical airborne wind turbine, advancing to the International Science and Engineering Fair after earning multiple awards at regional and state levels. Yash is also involved in the Distraction Free Driving Club, where he co-invented the EyeDAS device aimed at reducing distracted driving. He is set to attend Duke University as an AB scholar and aspires to build impactful technologies.\n",
      "    \n"
     ]
    }
   ],
   "source": [
    "print(scrape_person(\"pranav ponnosamy\"))"
   ]
  }
 ],
 "metadata": {
  "kernelspec": {
   "display_name": "base",
   "language": "python",
   "name": "python3"
  },
  "language_info": {
   "codemirror_mode": {
    "name": "ipython",
    "version": 3
   },
   "file_extension": ".py",
   "mimetype": "text/x-python",
   "name": "python",
   "nbconvert_exporter": "python",
   "pygments_lexer": "ipython3",
   "version": "3.12.4"
  }
 },
 "nbformat": 4,
 "nbformat_minor": 2
}
