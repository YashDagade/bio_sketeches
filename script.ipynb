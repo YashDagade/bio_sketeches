{
 "cells": [
  {
   "cell_type": "code",
   "execution_count": 8,
   "metadata": {},
   "outputs": [
    {
     "name": "stderr",
     "output_type": "stream",
     "text": [
      "  0%|          | 0/160 [00:00<?, ?it/s]"
     ]
    },
    {
     "name": "stdout",
     "output_type": "stream",
     "text": [
      "Processing: Kunal Agarwal\n",
      "Found 7 URLs for query 'Kunal Agarwal Palo Alto, California, United States Valparaiso University'.\n",
      "Error fetching URL 'https://www.crunchbase.com/person/kunal-agarwal-2': 403 Client Error: Forbidden for url: https://www.crunchbase.com/person/kunal-agarwal-2\n",
      "Error fetching URL 'https://www.intelligence360.news/palo-alto-california-based-unravel-data-is-raising-50000000-00-in-new-equity-investment/': 406 Client Error: Not Acceptable for url: https://www.intelligence360.news/palo-alto-california-based-unravel-data-is-raising-50000000-00-in-new-equity-investment/\n"
     ]
    },
    {
     "name": "stderr",
     "output_type": "stream",
     "text": [
      "/var/folders/5m/w0rlpsxd7yx_97nl1gx0dfzm0000gn/T/ipykernel_79343/775319625.py:223: FutureWarning: Setting an item of incompatible dtype is deprecated and will raise an error in a future version of pandas. Value 'Kunal Agarwal is the CEO and co-founder of Unravel Data, a leader in DataOps observability platforms aimed at optimizing performance and cost for modern data teams. With extensive experience in both entrepreneurship and corporate leadership, he has a track record of helping organizations leverage data for actionable insights.' has dtype incompatible with float64, please explicitly cast to a compatible dtype first.\n",
      "  df.loc[index] = process_person(row)\n",
      "/var/folders/5m/w0rlpsxd7yx_97nl1gx0dfzm0000gn/T/ipykernel_79343/775319625.py:223: FutureWarning: Setting an item of incompatible dtype is deprecated and will raise an error in a future version of pandas. Value 'Kunal started his career leading sales and implementation of Oracle products for several Fortune 100 companies. He played a significant role in helping Sun Microsystems run its Grid Computing Engine, providing valuable insights into large-scale data operations.' has dtype incompatible with float64, please explicitly cast to a compatible dtype first.\n",
      "  df.loc[index] = process_person(row)\n",
      "/var/folders/5m/w0rlpsxd7yx_97nl1gx0dfzm0000gn/T/ipykernel_79343/775319625.py:223: FutureWarning: Setting an item of incompatible dtype is deprecated and will raise an error in a future version of pandas. Value 'Kunal co-founded Yuuze.com, an innovative website focused on e-commerce personalization. This entrepreneurial venture marked his shift from corporate roles to tech startup leadership, where he honed his skills in product development and business intelligence.' has dtype incompatible with float64, please explicitly cast to a compatible dtype first.\n",
      "  df.loc[index] = process_person(row)\n",
      "/var/folders/5m/w0rlpsxd7yx_97nl1gx0dfzm0000gn/T/ipykernel_79343/775319625.py:223: FutureWarning: Setting an item of incompatible dtype is deprecated and will raise an error in a future version of pandas. Value 'As the CEO of Unravel Data, Kunal has transformed the way businesses approach data observability. His leadership has allowed the company to scale, introduce cutting-edge AI and machine learning technologies, and service top-tier clients worldwide, including Adobe and Deutsche Bank.' has dtype incompatible with float64, please explicitly cast to a compatible dtype first.\n",
      "  df.loc[index] = process_person(row)\n",
      "/var/folders/5m/w0rlpsxd7yx_97nl1gx0dfzm0000gn/T/ipykernel_79343/775319625.py:223: FutureWarning: Setting an item of incompatible dtype is deprecated and will raise an error in a future version of pandas. Value 'Key achievements include being recognized as a Cool Vendor in Data Management by Gartner and his instrumental role in leading Unravel Data into the forefront of the DataOps observability market. He is also a sought-after speaker, delivering keynotes at significant industry events like the Data Teams Summit.' has dtype incompatible with float64, please explicitly cast to a compatible dtype first.\n",
      "  df.loc[index] = process_person(row)\n",
      "/var/folders/5m/w0rlpsxd7yx_97nl1gx0dfzm0000gn/T/ipykernel_79343/775319625.py:223: FutureWarning: Setting an item of incompatible dtype is deprecated and will raise an error in a future version of pandas. Value 'Kunal is driven by the desire to empower data teams to perform at their best, fostering environments that emphasize learning from mistakes and continuous improvement.' has dtype incompatible with float64, please explicitly cast to a compatible dtype first.\n",
      "  df.loc[index] = process_person(row)\n",
      "/var/folders/5m/w0rlpsxd7yx_97nl1gx0dfzm0000gn/T/ipykernel_79343/775319625.py:223: FutureWarning: Setting an item of incompatible dtype is deprecated and will raise an error in a future version of pandas. Value 'His mission is to simplify the complex world of data operations for organizations, making it easier for teams to optimize, troubleshoot, and govern their data stacks for better business value.' has dtype incompatible with float64, please explicitly cast to a compatible dtype first.\n",
      "  df.loc[index] = process_person(row)\n",
      "/var/folders/5m/w0rlpsxd7yx_97nl1gx0dfzm0000gn/T/ipykernel_79343/775319625.py:223: FutureWarning: Setting an item of incompatible dtype is deprecated and will raise an error in a future version of pandas. Value 'Kunal's personal philosophy centers around the importance of learning from past experiences and leveraging that knowledge to create unselfish team dynamics focused on shared goals.' has dtype incompatible with float64, please explicitly cast to a compatible dtype first.\n",
      "  df.loc[index] = process_person(row)\n",
      "/var/folders/5m/w0rlpsxd7yx_97nl1gx0dfzm0000gn/T/ipykernel_79343/775319625.py:223: FutureWarning: Setting an item of incompatible dtype is deprecated and will raise an error in a future version of pandas. Value 'https://datateamssummit.com, https://www.unraveldata.com, https://fastcompany.com/executiveboard, https://kismetcommunications.net, https://globenewswire.com/news-release/2022/01/11/2378308/0/en/Unravel-Data-CEO-to-Keynote-Second-DataOps-Unleashed-Virtual-Event.html' has dtype incompatible with float64, please explicitly cast to a compatible dtype first.\n",
      "  df.loc[index] = process_person(row)\n",
      "  1%|          | 1/160 [00:28<1:15:36, 28.53s/it]"
     ]
    },
    {
     "name": "stdout",
     "output_type": "stream",
     "text": [
      "Processing: David Aktary\n",
      "Found 7 URLs for query 'David Aktary Austin, Texas, United States University of Michigan - Dearborn'.\n",
      "Error fetching URL 'https://www.crunchbase.com/person/david-aktary': 403 Client Error: Forbidden for url: https://www.crunchbase.com/person/david-aktary\n"
     ]
    },
    {
     "name": "stderr",
     "output_type": "stream",
     "text": [
      "  1%|▏         | 2/160 [00:46<58:42, 22.29s/it]  "
     ]
    },
    {
     "name": "stdout",
     "output_type": "stream",
     "text": [
      "Processing: David Albert\n",
      "Found 7 URLs for query 'David Albert Santa Monica, California, United States Harvard University'.\n"
     ]
    },
    {
     "name": "stderr",
     "output_type": "stream",
     "text": [
      "  2%|▏         | 3/160 [01:05<53:52, 20.59s/it]"
     ]
    },
    {
     "name": "stdout",
     "output_type": "stream",
     "text": [
      "Processing: Ethan Anderson\n",
      "Found 7 URLs for query 'Ethan Anderson Los Angeles, California, United States Duke University'.\n",
      "Error fetching URL 'https://pitchbook.com/profiles/person/36032-86P': 403 Client Error: Forbidden for url: https://pitchbook.com/profiles/person/36032-86P\n"
     ]
    },
    {
     "name": "stderr",
     "output_type": "stream",
     "text": [
      "  2%|▎         | 4/160 [01:25<53:16, 20.49s/it]"
     ]
    },
    {
     "name": "stdout",
     "output_type": "stream",
     "text": [
      "Processing: Jennifer Beall\n",
      "Found 7 URLs for query 'Jennifer Beall Los Angeles, California, United States Duke University'.\n",
      "Error fetching URL 'https://www.crunchbase.com/person/jennifer-beall': 403 Client Error: Forbidden for url: https://www.crunchbase.com/person/jennifer-beall\n"
     ]
    },
    {
     "name": "stderr",
     "output_type": "stream",
     "text": [
      "  3%|▎         | 5/160 [01:46<53:57, 20.89s/it]"
     ]
    },
    {
     "name": "stdout",
     "output_type": "stream",
     "text": [
      "Processing: Jason Begleiter\n",
      "Found 7 URLs for query 'Jason Begleiter Boulder, Colorado, United States Duke University'.\n",
      "Error fetching URL 'https://www.zoominfo.com/p/Jason-Begleiter/7213178833': 403 Client Error: Forbidden for url: https://www.zoominfo.com/p/Jason-Begleiter/7213178833\n",
      "Error fetching URL 'https://voterrecords.com/voter/97674134/jason-begleiter': 403 Client Error: Forbidden for url: https://voterrecords.com/voter/97674134/jason-begleiter\n"
     ]
    },
    {
     "name": "stderr",
     "output_type": "stream",
     "text": [
      "  4%|▍         | 6/160 [02:04<50:34, 19.70s/it]"
     ]
    },
    {
     "name": "stdout",
     "output_type": "stream",
     "text": [
      "Processing: Brooks Bell\n",
      "Found 7 URLs for query 'Brooks Bell Raleigh, North Carolina, United States Duke University'.\n"
     ]
    },
    {
     "name": "stderr",
     "output_type": "stream",
     "text": [
      "  4%|▍         | 7/160 [02:23<49:24, 19.38s/it]"
     ]
    },
    {
     "name": "stdout",
     "output_type": "stream",
     "text": [
      "Processing: Ari Bencuya\n",
      "Found 7 URLs for query 'Ari Bencuya Istanbul, Turkey Duke University'.\n",
      "Error fetching URL 'https://www.crunchbase.com/person/ari-bencuya': 403 Client Error: Forbidden for url: https://www.crunchbase.com/person/ari-bencuya\n"
     ]
    },
    {
     "name": "stderr",
     "output_type": "stream",
     "text": [
      "  5%|▌         | 8/160 [02:42<48:46, 19.25s/it]"
     ]
    },
    {
     "name": "stdout",
     "output_type": "stream",
     "text": [
      "Processing: Melissa Bernstein\n",
      "Found 7 URLs for query 'Melissa Bernstein Westport, Connecticut, United States Duke University'.\n",
      "Error fetching URL 'https://www.ctinsider.com/connecticut/article/connecticut-women-s-hall-of-fame-induction-19851718.php': 403 Client Error: Forbidden for url: https://www.ctinsider.com/connecticut/article/connecticut-women-s-hall-of-fame-induction-19851718.php\n",
      "Error fetching URL 'https://www.ctinsider.com/connecticutmagazine/article/Depression-sufferers-get-a-Lifeline-from-Melissa-17045812.php': 403 Client Error: Forbidden for url: https://www.ctinsider.com/connecticutmagazine/article/Depression-sufferers-get-a-Lifeline-from-Melissa-17045812.php\n"
     ]
    },
    {
     "name": "stderr",
     "output_type": "stream",
     "text": [
      "  6%|▌         | 9/160 [03:01<48:20, 19.21s/it]"
     ]
    },
    {
     "name": "stdout",
     "output_type": "stream",
     "text": [
      "Processing: Manick Bhan\n",
      "Found 7 URLs for query 'Manick Bhan Las Vegas, Nevada, United States Duke University'.\n",
      "Error fetching URL 'https://muckrack.com/manick-bhan': 403 Client Error: Forbidden for url: https://muckrack.com/manick-bhan\n",
      "Error fetching URL 'https://muckrack.com/manick-bhan/bio': 403 Client Error: Forbidden for url: https://muckrack.com/manick-bhan/bio\n"
     ]
    },
    {
     "name": "stderr",
     "output_type": "stream",
     "text": [
      "  6%|▋         | 10/160 [03:20<48:03, 19.22s/it]"
     ]
    },
    {
     "name": "stdout",
     "output_type": "stream",
     "text": [
      "Processing: Tatiana Birgisson\n",
      "Found 7 URLs for query 'Tatiana Birgisson San Francisco Bay Area Duke University'.\n",
      "Error fetching URL 'https://www.inc.com/christine-lagorio/2016-30-under-30-mati-energy.html': 403 Client Error: Forbidden for url: https://www.inc.com/christine-lagorio/2016-30-under-30-mati-energy.html\n"
     ]
    },
    {
     "name": "stderr",
     "output_type": "stream",
     "text": [
      "  7%|▋         | 11/160 [03:40<48:42, 19.61s/it]"
     ]
    },
    {
     "name": "stdout",
     "output_type": "stream",
     "text": [
      "Progress saved at row 10.\n",
      "Processing: Lisa Blau\n",
      "Found 7 URLs for query 'Lisa Blau New York, New York, United States Duke University'.\n",
      "Error fetching URL 'https://pitchbook.com/profiles/person/29038-69P': 403 Client Error: Forbidden for url: https://pitchbook.com/profiles/person/29038-69P\n",
      "Error fetching URL 'https://pitchbook.com/profiles/investor/265170-43': 403 Client Error: Forbidden for url: https://pitchbook.com/profiles/investor/265170-43\n"
     ]
    },
    {
     "name": "stderr",
     "output_type": "stream",
     "text": [
      "  8%|▊         | 12/160 [03:58<46:42, 18.94s/it]"
     ]
    },
    {
     "name": "stdout",
     "output_type": "stream",
     "text": [
      "Processing: Bant Breen\n",
      "Found 7 URLs for query 'Bant Breen New York, New York, United States Duke University'.\n",
      "Error fetching URL 'https://www.crunchbase.com/person/bant-breen': 403 Client Error: Forbidden for url: https://www.crunchbase.com/person/bant-breen\n"
     ]
    },
    {
     "name": "stderr",
     "output_type": "stream",
     "text": [
      "  8%|▊         | 13/160 [04:19<47:57, 19.58s/it]"
     ]
    },
    {
     "name": "stdout",
     "output_type": "stream",
     "text": [
      "Processing: Tyler Brock\n",
      "Found 7 URLs for query 'Tyler Brock Charlotte, NC, US Duke University'.\n",
      "Error fetching URL 'https://www.crunchbase.com/person/tyler-brock': 403 Client Error: Forbidden for url: https://www.crunchbase.com/person/tyler-brock\n"
     ]
    },
    {
     "name": "stderr",
     "output_type": "stream",
     "text": [
      "  9%|▉         | 14/160 [04:38<47:22, 19.47s/it]"
     ]
    },
    {
     "name": "stdout",
     "output_type": "stream",
     "text": [
      "Processing: Anne Claire Broughton\n",
      "Found 7 URLs for query 'Anne Claire Broughton Durham, North Carolina, United States Oberlin College'.\n",
      "Error fetching URL 'https://www.crunchbase.com/person/anne-claire-broughton': 403 Client Error: Forbidden for url: https://www.crunchbase.com/person/anne-claire-broughton\n"
     ]
    },
    {
     "name": "stderr",
     "output_type": "stream",
     "text": [
      "  9%|▉         | 15/160 [05:06<53:11, 22.01s/it]"
     ]
    },
    {
     "name": "stdout",
     "output_type": "stream",
     "text": [
      "Processing: Bill Brown\n",
      "Found 7 URLs for query 'Bill Brown New York, New York, United States Massachusetts Institute of Technology'.\n",
      "Error fetching URL 'https://www.crunchbase.com/person/bill-brown-4': 403 Client Error: Forbidden for url: https://www.crunchbase.com/person/bill-brown-4\n",
      "Error fetching URL 'https://www.researchgate.net/profile/Bill-Brown-8': 403 Client Error: Forbidden for url: https://www.researchgate.net/profile/Bill-Brown-8\n",
      "Error fetching URL 'https://www.wsj.com/tech/3m-names-william-brown-chief-executive-c3f34cb7': 401 Client Error: HTTP Forbidden for url: https://www.wsj.com/tech/3m-names-william-brown-chief-executive-c3f34cb7\n"
     ]
    },
    {
     "name": "stderr",
     "output_type": "stream",
     "text": [
      " 10%|█         | 16/160 [05:24<49:59, 20.83s/it]"
     ]
    },
    {
     "name": "stdout",
     "output_type": "stream",
     "text": [
      "Processing: Andrew Busey\n",
      "Found 7 URLs for query 'Andrew Busey Austin, Texas, United States Duke University'.\n",
      "Error fetching URL 'https://www.crunchbase.com/person/andrew-busey': 403 Client Error: Forbidden for url: https://www.crunchbase.com/person/andrew-busey\n"
     ]
    },
    {
     "name": "stderr",
     "output_type": "stream",
     "text": [
      " 11%|█         | 17/160 [05:44<49:08, 20.62s/it]"
     ]
    },
    {
     "name": "stdout",
     "output_type": "stream",
     "text": [
      "Processing: Blake Byrnes\n",
      "Found 7 URLs for query 'Blake Byrnes Atlanta, Georgia, United States Duke University'.\n",
      "Error fetching URL 'https://www.f6s.com/member/blakebyrnes': 405 Client Error: Not Allowed for url: https://www.f6s.com/member/blakebyrnes\n"
     ]
    },
    {
     "name": "stderr",
     "output_type": "stream",
     "text": [
      " 11%|█▏        | 18/160 [06:01<46:10, 19.51s/it]"
     ]
    },
    {
     "name": "stdout",
     "output_type": "stream",
     "text": [
      "Processing: Sonny Caberwal\n",
      "Found 7 URLs for query 'Sonny Caberwal San Francisco Bay Area Duke University'.\n",
      "Error fetching URL 'https://www.crunchbase.com/person/sonny-caberwal': 403 Client Error: Forbidden for url: https://www.crunchbase.com/person/sonny-caberwal\n",
      "Error fetching URL 'https://www.nytimes.com/2016/01/20/dining/bond-sonny-caberwal-spice-tin-rajma.html': 403 Client Error: Forbidden for url: https://www.nytimes.com/2016/01/20/dining/bond-sonny-caberwal-spice-tin-rajma.html\n"
     ]
    },
    {
     "name": "stderr",
     "output_type": "stream",
     "text": [
      " 12%|█▏        | 19/160 [06:19<44:24, 18.90s/it]"
     ]
    },
    {
     "name": "stdout",
     "output_type": "stream",
     "text": [
      "Processing: Scott Cadora\n",
      "Found 7 URLs for query 'Scott Cadora Atlanta Metropolitan Area Georgia Institute of Technology'.\n",
      "Error fetching URL 'https://www.zoominfo.com/p/Scott-Cadora/414776332': 403 Client Error: Forbidden for url: https://www.zoominfo.com/p/Scott-Cadora/414776332\n"
     ]
    },
    {
     "name": "stderr",
     "output_type": "stream",
     "text": [
      " 12%|█▎        | 20/160 [06:37<43:57, 18.84s/it]"
     ]
    },
    {
     "name": "stdout",
     "output_type": "stream",
     "text": [
      "Processing: Ryan Caldbeck\n",
      "Found 7 URLs for query 'Ryan Caldbeck San Franciso Bay Area Duke University'.\n",
      "Error fetching URL 'https://www.crunchbase.com/person/ryan-caldbeck': 403 Client Error: Forbidden for url: https://www.crunchbase.com/person/ryan-caldbeck\n"
     ]
    },
    {
     "name": "stderr",
     "output_type": "stream",
     "text": [
      " 13%|█▎        | 21/160 [06:57<44:09, 19.06s/it]"
     ]
    },
    {
     "name": "stdout",
     "output_type": "stream",
     "text": [
      "Progress saved at row 20.\n",
      "Processing: Marcelo Camberos\n",
      "Found 7 URLs for query 'Marcelo Camberos United States Duke University'.\n",
      "Error fetching URL 'https://www.crunchbase.com/person/marcelo-camberos': 403 Client Error: Forbidden for url: https://www.crunchbase.com/person/marcelo-camberos\n",
      "Error fetching URL 'https://commercism.co/event-speakers/marcelo-camberos/': ('Connection aborted.', ConnectionResetError(54, 'Connection reset by peer'))\n"
     ]
    },
    {
     "name": "stderr",
     "output_type": "stream",
     "text": [
      " 14%|█▍        | 22/160 [07:15<42:59, 18.69s/it]"
     ]
    },
    {
     "name": "stdout",
     "output_type": "stream",
     "text": [
      "Processing: Juan Pablo Capello\n",
      "Found 7 URLs for query 'Juan Pablo Capello Miami Beach, Florida, United States Duke University'.\n"
     ]
    },
    {
     "name": "stderr",
     "output_type": "stream",
     "text": [
      " 14%|█▍        | 23/160 [07:37<45:18, 19.85s/it]"
     ]
    },
    {
     "name": "stdout",
     "output_type": "stream",
     "text": [
      "Processing: Jed Carlson\n",
      "Found 7 URLs for query 'Jed Carlson Durham, North Carolina, United States Bowdoin College'.\n",
      "Error fetching URL 'https://www.crunchbase.com/person/jed-carlson': 403 Client Error: Forbidden for url: https://www.crunchbase.com/person/jed-carlson\n"
     ]
    },
    {
     "name": "stderr",
     "output_type": "stream",
     "text": [
      " 15%|█▌        | 24/160 [07:54<43:11, 19.05s/it]"
     ]
    },
    {
     "name": "stdout",
     "output_type": "stream",
     "text": [
      "Processing: Lori Cashman\n",
      "Found 7 URLs for query 'Lori Cashman Boston, Massachusetts, United States Duke University'.\n",
      "Error fetching URL 'https://pitchbook.com/profiles/person/13575-70P': 403 Client Error: Forbidden for url: https://pitchbook.com/profiles/person/13575-70P\n"
     ]
    },
    {
     "name": "stderr",
     "output_type": "stream",
     "text": [
      " 16%|█▌        | 25/160 [08:11<41:26, 18.42s/it]"
     ]
    },
    {
     "name": "stdout",
     "output_type": "stream",
     "text": [
      "Processing: Bora Chang\n",
      "Found 7 URLs for query 'Bora Chang San Francisco, California, United States University of Washington'.\n",
      "Error fetching URL 'https://www.f6s.com/member/changbora': 405 Client Error: Not Allowed for url: https://www.f6s.com/member/changbora\n",
      "Error fetching URL 'https://www.zoominfo.com/p/Bora-Chang/1807419483': 403 Client Error: Forbidden for url: https://www.zoominfo.com/p/Bora-Chang/1807419483\n",
      "Error fetching URL 'https://www.crunchbase.com/person/bora-chang': 403 Client Error: Forbidden for url: https://www.crunchbase.com/person/bora-chang\n",
      "Error fetching URL 'https://pitchbook.com/profiles/company/229138-39': 403 Client Error: Forbidden for url: https://pitchbook.com/profiles/company/229138-39\n"
     ]
    },
    {
     "name": "stderr",
     "output_type": "stream",
     "text": [
      " 16%|█▋        | 26/160 [08:29<40:29, 18.13s/it]"
     ]
    },
    {
     "name": "stdout",
     "output_type": "stream",
     "text": [
      "Processing: Nicholas Chang\n",
      "Found 7 URLs for query 'Nicholas Chang Stanford University, California, United States Stanford University'.\n",
      "Error fetching URL 'https://www.crunchbase.com/person/nicholas-chang': 403 Client Error: Forbidden for url: https://www.crunchbase.com/person/nicholas-chang\n",
      "Error fetching URL 'https://www.researchgate.net/profile/Nick-Chang': 403 Client Error: Forbidden for url: https://www.researchgate.net/profile/Nick-Chang\n"
     ]
    },
    {
     "name": "stderr",
     "output_type": "stream",
     "text": [
      " 17%|█▋        | 27/160 [08:49<41:16, 18.62s/it]"
     ]
    },
    {
     "name": "stdout",
     "output_type": "stream",
     "text": [
      "Processing: Charlene Chen\n",
      "Found 7 URLs for query 'Charlene Chen London, England, United Kingdom Duke University'.\n",
      "Error fetching URL 'https://www.crunchbase.com/person/charlene-chen': 403 Client Error: Forbidden for url: https://www.crunchbase.com/person/charlene-chen\n"
     ]
    },
    {
     "name": "stderr",
     "output_type": "stream",
     "text": [
      " 18%|█▊        | 28/160 [09:07<41:07, 18.69s/it]"
     ]
    },
    {
     "name": "stdout",
     "output_type": "stream",
     "text": [
      "Processing: Rachael Chong\n",
      "Found 7 URLs for query 'Rachael Chong Santa Barbara, California, United States Barnard College'.\n",
      "Error fetching URL 'https://www.crunchbase.com/person/rachael-chong': 403 Client Error: Forbidden for url: https://www.crunchbase.com/person/rachael-chong\n",
      "Error fetching URL 'https://www.weforum.org/people/rachael-chong/': 403 Client Error: Forbidden for url: https://www.weforum.org/people/rachael-chong/\n"
     ]
    },
    {
     "name": "stderr",
     "output_type": "stream",
     "text": [
      " 18%|█▊        | 29/160 [09:26<40:57, 18.76s/it]"
     ]
    },
    {
     "name": "stdout",
     "output_type": "stream",
     "text": [
      "Processing: Lin Chua\n",
      "Found 7 URLs for query 'Lin Chua New York, New York, United States University of Sydney'.\n",
      "Error fetching URL 'https://www.crunchbase.com/person/lin-chua': 403 Client Error: Forbidden for url: https://www.crunchbase.com/person/lin-chua\n",
      "Error fetching URL 'https://www.abfjournal.com/articles/a-world-of-experience-lin-chuas-commitment-to-value-in-all-spaces/': 403 Client Error: Forbidden for url: https://www.abfjournal.com/articles/a-world-of-experience-lin-chuas-commitment-to-value-in-all-spaces/\n"
     ]
    },
    {
     "name": "stderr",
     "output_type": "stream",
     "text": [
      " 19%|█▉        | 30/160 [09:45<40:41, 18.78s/it]"
     ]
    },
    {
     "name": "stdout",
     "output_type": "stream",
     "text": [
      "Processing: Rachel Cook\n",
      "Found 7 URLs for query 'Rachel Cook Portland, Oregon, United States Duke University'.\n",
      "Error fetching URL 'https://www.researchgate.net/profile/Rachel-Cook-28': 403 Client Error: Forbidden for url: https://www.researchgate.net/profile/Rachel-Cook-28\n",
      "Error fetching URL 'https://npiprofile.com/npi/1598735748': 403 Client Error: Forbidden for url: https://npiprofile.com/npi/1598735748\n",
      "Error fetching URL 'https://health.usnews.com/doctors/rachel-cook-252051': HTTPSConnectionPool(host='health.usnews.com', port=443): Read timed out. (read timeout=10)\n"
     ]
    },
    {
     "name": "stderr",
     "output_type": "stream",
     "text": [
      " 19%|█▉        | 31/160 [10:12<45:43, 21.27s/it]"
     ]
    },
    {
     "name": "stdout",
     "output_type": "stream",
     "text": [
      "Progress saved at row 30.\n",
      "Processing: Dan Corkum\n",
      "Found 7 URLs for query 'Dan Corkum Oakland, California, United States Duke University'.\n",
      "Error fetching URL 'https://www.f6s.com/member/dancorkum': 405 Client Error: Not Allowed for url: https://www.f6s.com/member/dancorkum\n"
     ]
    },
    {
     "name": "stderr",
     "output_type": "stream",
     "text": [
      " 20%|██        | 32/160 [10:29<42:36, 19.97s/it]"
     ]
    },
    {
     "name": "stdout",
     "output_type": "stream",
     "text": [
      "Processing: Gonzalo Costa\n",
      "Found 7 URLs for query 'Gonzalo Costa Montevideo, Montevideo, Uruguay Universidad Catolica Argentina'.\n"
     ]
    },
    {
     "name": "stderr",
     "output_type": "stream",
     "text": [
      " 21%|██        | 33/160 [10:49<41:54, 19.80s/it]"
     ]
    },
    {
     "name": "stdout",
     "output_type": "stream",
     "text": [
      "Processing: David Cummings\n",
      "Found 7 URLs for query 'David Cummings Atlanta, Georgia, United States Duke University'.\n",
      "Error fetching URL 'https://pitchbook.com/profiles/person/43670-80P': 403 Client Error: Forbidden for url: https://pitchbook.com/profiles/person/43670-80P\n",
      "Error fetching URL 'https://www.crunchbase.com/person/david-cummings': 403 Client Error: Forbidden for url: https://www.crunchbase.com/person/david-cummings\n"
     ]
    },
    {
     "name": "stderr",
     "output_type": "stream",
     "text": [
      " 21%|██▏       | 34/160 [11:07<40:48, 19.43s/it]"
     ]
    },
    {
     "name": "stdout",
     "output_type": "stream",
     "text": [
      "Processing: Jack Davis\n",
      "Found 7 URLs for query 'Jack Davis Durham, North Carolina, United States Duke University'.\n",
      "Error fetching URL 'https://www.researchgate.net/profile/Jack-Davis-4': 403 Client Error: Forbidden for url: https://www.researchgate.net/profile/Jack-Davis-4\n"
     ]
    },
    {
     "name": "stderr",
     "output_type": "stream",
     "text": [
      " 22%|██▏       | 35/160 [11:24<39:01, 18.74s/it]"
     ]
    },
    {
     "name": "stdout",
     "output_type": "stream",
     "text": [
      "Processing: Stephen Dean\n",
      "Found 7 URLs for query 'Stephen Dean Chapel Hill, North Carolina, United States Not stated'.\n",
      "Error fetching URL 'https://www.crunchbase.com/person/stephen-dean': 403 Client Error: Forbidden for url: https://www.crunchbase.com/person/stephen-dean\n",
      "Error fetching URL 'https://www.zoominfo.com/p/Stephen-Dean/-1080534209': 403 Client Error: Forbidden for url: https://www.zoominfo.com/p/Stephen-Dean/-1080534209\n",
      "Error fetching URL 'https://www.zoominfo.com/p/Stephen-Dean/-1381527040': 403 Client Error: Forbidden for url: https://www.zoominfo.com/p/Stephen-Dean/-1381527040\n"
     ]
    },
    {
     "name": "stderr",
     "output_type": "stream",
     "text": [
      " 22%|██▎       | 36/160 [11:40<37:02, 17.93s/it]"
     ]
    },
    {
     "name": "stdout",
     "output_type": "stream",
     "text": [
      "Processing: Uki Deane\n",
      "Found 7 URLs for query 'Uki Deane Miami-Fort Lauderdale Area Duke University'.\n",
      "Error fetching URL 'https://www.linkedin.com/pub/dir/uki/deane': 503 Server Error: Service Unavailable for url: https://www.linkedin.com/pub/dir/uki/deane\n"
     ]
    },
    {
     "name": "stderr",
     "output_type": "stream",
     "text": [
      " 23%|██▎       | 37/160 [12:01<38:42, 18.88s/it]"
     ]
    },
    {
     "name": "stdout",
     "output_type": "stream",
     "text": [
      "Processing: John Dex\n",
      "Found 7 URLs for query 'John Dex Greater Seattle Area Duke University'.\n",
      "Error fetching URL 'https://wellfound.com/p/john-dex': 403 Client Error: Forbidden for url: https://wellfound.com/p/john-dex\n"
     ]
    },
    {
     "name": "stderr",
     "output_type": "stream",
     "text": [
      " 24%|██▍       | 38/160 [12:20<38:24, 18.89s/it]"
     ]
    },
    {
     "name": "stdout",
     "output_type": "stream",
     "text": [
      "Processing: Harrison Dillon\n",
      "Found 7 URLs for query 'Harrison Dillon San Francisco, California, United States Emory University'.\n",
      "Error fetching URL 'https://www.crunchbase.com/person/harrison-dillon': 403 Client Error: Forbidden for url: https://www.crunchbase.com/person/harrison-dillon\n"
     ]
    },
    {
     "name": "stderr",
     "output_type": "stream",
     "text": [
      " 24%|██▍       | 39/160 [12:41<38:51, 19.27s/it]"
     ]
    },
    {
     "name": "stdout",
     "output_type": "stream",
     "text": [
      "Processing: Mackenzie Drazan\n",
      "Found 7 URLs for query 'Mackenzie Drazan Rancho Santa Fe, California, United States Duke University'.\n"
     ]
    },
    {
     "name": "stderr",
     "output_type": "stream",
     "text": [
      " 25%|██▌       | 40/160 [13:02<40:01, 20.02s/it]"
     ]
    },
    {
     "name": "stdout",
     "output_type": "stream",
     "text": [
      "Processing: Aaron Duke \n",
      "Found 7 URLs for query 'Aaron Duke  Denver, Colorado, United States Duke University'.\n",
      "Error fetching URL 'https://www.zoominfo.com/p/Aaron-Duke/10050582434': 403 Client Error: Forbidden for url: https://www.zoominfo.com/p/Aaron-Duke/10050582434\n",
      "Error fetching URL 'https://www.zoominfo.com/p/Aaron-Duke/1399771342': 403 Client Error: Forbidden for url: https://www.zoominfo.com/p/Aaron-Duke/1399771342\n"
     ]
    },
    {
     "name": "stderr",
     "output_type": "stream",
     "text": [
      " 26%|██▌       | 41/160 [13:20<38:11, 19.26s/it]"
     ]
    },
    {
     "name": "stdout",
     "output_type": "stream",
     "text": [
      "Progress saved at row 40.\n",
      "Processing: Ivonna Dumanyan\n",
      "Found 7 URLs for query 'Ivonna Dumanyan San Francisco Bay Area Duke University'.\n"
     ]
    },
    {
     "name": "stderr",
     "output_type": "stream",
     "text": [
      " 26%|██▋       | 42/160 [13:38<37:13, 18.93s/it]"
     ]
    },
    {
     "name": "stdout",
     "output_type": "stream",
     "text": [
      "Processing: Fred Ehrsam\n",
      "Found 7 URLs for query 'Fred Ehrsam San Francisco Bay Area Duke University'.\n",
      "Error fetching URL 'https://www.crunchbase.com/person/fred-ehrsam': 403 Client Error: Forbidden for url: https://www.crunchbase.com/person/fred-ehrsam\n"
     ]
    },
    {
     "name": "stderr",
     "output_type": "stream",
     "text": [
      " 27%|██▋       | 43/160 [13:58<37:26, 19.20s/it]"
     ]
    },
    {
     "name": "stdout",
     "output_type": "stream",
     "text": [
      "Processing: Basil Enan\n",
      "Found 7 URLs for query 'Basil Enan San Francisco, California, United States Duke University'.\n",
      "Error fetching URL 'https://pitchbook.com/profiles/person/37280-80P': 403 Client Error: Forbidden for url: https://pitchbook.com/profiles/person/37280-80P\n",
      "Error fetching URL 'https://www.crunchbase.com/person/basil-enan': 403 Client Error: Forbidden for url: https://www.crunchbase.com/person/basil-enan\n",
      "Error fetching URL 'https://craft.co/discors': 403 Client Error: Forbidden for url: https://craft.co/discors\n",
      "Error fetching URL 'https://www.zoominfo.com/p/Basil-Enan/1584934667': 429 Client Error: Too Many Requests for url: https://www.zoominfo.com/p/Basil-Enan/1584934667\n"
     ]
    },
    {
     "name": "stderr",
     "output_type": "stream",
     "text": [
      " 28%|██▊       | 44/160 [14:15<35:41, 18.46s/it]"
     ]
    },
    {
     "name": "stdout",
     "output_type": "stream",
     "text": [
      "Processing: Jason Ethier\n",
      "Found 7 URLs for query 'Jason Ethier Houston, Texas, United States Duke University'.\n",
      "Error fetching URL 'https://www.crunchbase.com/person/jason-ethier': 403 Client Error: Forbidden for url: https://www.crunchbase.com/person/jason-ethier\n"
     ]
    },
    {
     "name": "stderr",
     "output_type": "stream",
     "text": [
      " 28%|██▊       | 45/160 [14:32<34:50, 18.18s/it]"
     ]
    },
    {
     "name": "stdout",
     "output_type": "stream",
     "text": [
      "Processing: Dan Evans\n",
      "Found 7 URLs for query 'Dan Evans San Diego, California, United States Calvin University'.\n",
      "Error fetching URL 'https://www.f6s.com/member/danevans': 405 Client Error: Not Allowed for url: https://www.f6s.com/member/danevans\n",
      "Error fetching URL 'https://www.whitepages.com/name/Dan-Evans/CA': 403 Client Error: Forbidden for url: https://www.whitepages.com/name/Dan-Evans/CA\n"
     ]
    },
    {
     "name": "stderr",
     "output_type": "stream",
     "text": [
      " 29%|██▉       | 46/160 [14:50<34:41, 18.25s/it]"
     ]
    },
    {
     "name": "stdout",
     "output_type": "stream",
     "text": [
      "Processing: Russell Fadel\n",
      "Found 7 URLs for query 'Russell Fadel Monterey, California, United States Duke University'.\n",
      "Error fetching URL 'https://www.crunchbase.com/person/russell-fadel': 403 Client Error: Forbidden for url: https://www.crunchbase.com/person/russell-fadel\n",
      "Error fetching URL 'https://muckrack.com/russell-fadel': 403 Client Error: Forbidden for url: https://muckrack.com/russell-fadel\n"
     ]
    },
    {
     "name": "stderr",
     "output_type": "stream",
     "text": [
      " 29%|██▉       | 47/160 [15:09<34:41, 18.42s/it]"
     ]
    },
    {
     "name": "stdout",
     "output_type": "stream",
     "text": [
      "Processing: Dan Feldstein\n",
      "Found 7 URLs for query 'Dan Feldstein Fort Mill, South Carolina, United States Duke University'.\n",
      "Error fetching URL 'https://www.crunchbase.com/person/dan-feldstein': 403 Client Error: Forbidden for url: https://www.crunchbase.com/person/dan-feldstein\n",
      "Error fetching URL 'https://www.zoominfo.com/p/Dan-Feldstein/1444941': 429 Client Error: Too Many Requests for url: https://www.zoominfo.com/p/Dan-Feldstein/1444941\n"
     ]
    },
    {
     "name": "stderr",
     "output_type": "stream",
     "text": [
      " 30%|███       | 48/160 [15:32<36:32, 19.57s/it]"
     ]
    },
    {
     "name": "stdout",
     "output_type": "stream",
     "text": [
      "Processing: Josh Felser\n",
      "Found 7 URLs for query 'Josh Felser San Francisco, California, United States Duke University'.\n",
      "Error fetching URL 'https://www.crunchbase.com/person/josh-felser': 403 Client Error: Forbidden for url: https://www.crunchbase.com/person/josh-felser\n"
     ]
    },
    {
     "name": "stderr",
     "output_type": "stream",
     "text": [
      " 31%|███       | 49/160 [15:53<37:22, 20.20s/it]"
     ]
    },
    {
     "name": "stdout",
     "output_type": "stream",
     "text": [
      "Processing: Andrew First\n",
      "Found 7 URLs for query 'Andrew First New York, New York, United States Duke University'.\n",
      "Error fetching URL 'https://wellfound.com/p/andrew-first': 403 Client Error: Forbidden for url: https://wellfound.com/p/andrew-first\n"
     ]
    },
    {
     "name": "stderr",
     "output_type": "stream",
     "text": [
      " 31%|███▏      | 50/160 [16:11<35:26, 19.33s/it]"
     ]
    },
    {
     "name": "stdout",
     "output_type": "stream",
     "text": [
      "Processing: Kathryn Fortunato\n",
      "Found 7 URLs for query 'Kathryn Fortunato New York, New York, United States Duke University'.\n"
     ]
    },
    {
     "name": "stderr",
     "output_type": "stream",
     "text": [
      " 32%|███▏      | 51/160 [16:34<37:12, 20.48s/it]"
     ]
    },
    {
     "name": "stdout",
     "output_type": "stream",
     "text": [
      "Progress saved at row 50.\n",
      "Processing: Lizze Fortunato\n",
      "Found 7 URLs for query 'Lizze Fortunato New York, New York, United States Duke University'.\n"
     ]
    },
    {
     "name": "stderr",
     "output_type": "stream",
     "text": [
      " 32%|███▎      | 52/160 [16:53<36:18, 20.17s/it]"
     ]
    },
    {
     "name": "stdout",
     "output_type": "stream",
     "text": [
      "Processing: Amanda Freeman\n",
      "Found 7 URLs for query 'Amanda Freeman New York, New York, United States Duke University'.\n",
      "Error fetching URL 'https://www.crunchbase.com/person/amanda-freeman': 403 Client Error: Forbidden for url: https://www.crunchbase.com/person/amanda-freeman\n",
      "Error fetching URL 'https://natfluence.com/interview/amanda-freeman/': 406 Client Error: Not Acceptable for url: https://natfluence.com/interview/amanda-freeman/\n"
     ]
    },
    {
     "name": "stderr",
     "output_type": "stream",
     "text": [
      " 33%|███▎      | 53/160 [17:12<35:30, 19.91s/it]"
     ]
    },
    {
     "name": "stdout",
     "output_type": "stream",
     "text": [
      "Processing: Eric Futoran\n",
      "Found 7 URLs for query 'Eric Futoran Culver City, California, United States Duke University'.\n",
      "Error fetching URL 'https://www.crunchbase.com/person/eric-futoran': 403 Client Error: Forbidden for url: https://www.crunchbase.com/person/eric-futoran\n",
      "Error fetching URL 'https://pitchbook.com/profiles/person/43394-77P': 403 Client Error: Forbidden for url: https://pitchbook.com/profiles/person/43394-77P\n"
     ]
    },
    {
     "name": "stderr",
     "output_type": "stream",
     "text": [
      " 34%|███▍      | 54/160 [17:32<34:46, 19.69s/it]"
     ]
    },
    {
     "name": "stdout",
     "output_type": "stream",
     "text": [
      "Processing: Dylan Gambardella\n",
      "Found 7 URLs for query 'Dylan Gambardella New York, New York, United States Duke University'.\n",
      "Error fetching URL 'https://www.crunchbase.com/person/dylan-gambardella': 403 Client Error: Forbidden for url: https://www.crunchbase.com/person/dylan-gambardella\n"
     ]
    },
    {
     "name": "stderr",
     "output_type": "stream",
     "text": [
      " 34%|███▍      | 55/160 [17:52<34:41, 19.82s/it]"
     ]
    },
    {
     "name": "stdout",
     "output_type": "stream",
     "text": [
      "Processing: Hareesh Ganesan\n",
      "Found 7 URLs for query 'Hareesh Ganesan United Kingdom Duke University'.\n"
     ]
    },
    {
     "name": "stderr",
     "output_type": "stream",
     "text": [
      " 35%|███▌      | 56/160 [18:13<35:08, 20.28s/it]"
     ]
    },
    {
     "name": "stdout",
     "output_type": "stream",
     "text": [
      "Processing: Pamir Gelenbe\n",
      "Found 7 URLs for query 'Pamir Gelenbe United Kingdom Duke University'.\n",
      "Error fetching URL 'https://www.crunchbase.com/person/pamir-gelenbe': 403 Client Error: Forbidden for url: https://www.crunchbase.com/person/pamir-gelenbe\n",
      "Error fetching URL 'https://pitchbook.com/profiles/person/51987-07P': 403 Client Error: Forbidden for url: https://pitchbook.com/profiles/person/51987-07P\n",
      "Error fetching URL 'https://www.researchgate.net/scientific-contributions/Pamir-Gelenbe-31915828': 403 Client Error: Forbidden for url: https://www.researchgate.net/scientific-contributions/Pamir-Gelenbe-31915828\n"
     ]
    },
    {
     "name": "stderr",
     "output_type": "stream",
     "text": [
      " 36%|███▌      | 57/160 [18:32<34:03, 19.84s/it]"
     ]
    },
    {
     "name": "stdout",
     "output_type": "stream",
     "text": [
      "Processing: Chuck Ghoorah\n",
      "Found 7 URLs for query 'Chuck Ghoorah McLean, Virginia, United States Duke University'.\n",
      "Error fetching URL 'https://www.crunchbase.com/person/chuck-ghoorah': 403 Client Error: Forbidden for url: https://www.crunchbase.com/person/chuck-ghoorah\n"
     ]
    },
    {
     "name": "stderr",
     "output_type": "stream",
     "text": [
      " 36%|███▋      | 58/160 [18:51<33:16, 19.57s/it]"
     ]
    },
    {
     "name": "stdout",
     "output_type": "stream",
     "text": [
      "Processing: Maria Gibbs\n",
      "Found 7 URLs for query 'Maria Gibbs South Bend, Indiana, United States Duke University'.\n",
      "Error fetching URL 'https://www.zoominfo.com/p/Maria-Gibbs/1590064886': 429 Client Error: Too Many Requests for url: https://www.zoominfo.com/p/Maria-Gibbs/1590064886\n",
      "Error fetching URL 'https://moxieinthemaking.org/event/learning-opportunity-iusb-entrepreneur-lecture-series-maria-gibbs-dustin-mix-reverse-engineering-impact-ventures/': 429 Client Error: Too Many Requests for url: https://moxieinthemaking.org/event/learning-opportunity-iusb-entrepreneur-lecture-series-maria-gibbs-dustin-mix-reverse-engineering-impact-ventures/\n"
     ]
    },
    {
     "name": "stderr",
     "output_type": "stream",
     "text": [
      " 37%|███▋      | 59/160 [19:20<37:51, 22.49s/it]"
     ]
    },
    {
     "name": "stdout",
     "output_type": "stream",
     "text": [
      "Processing: Bob Gilbreath\n",
      "Found 7 URLs for query 'Bob Gilbreath Cincinnati, Ohio, United States Duke University'.\n",
      "Error fetching URL 'https://www.crunchbase.com/person/bob-gilbreath-170c': 403 Client Error: Forbidden for url: https://www.crunchbase.com/person/bob-gilbreath-170c\n"
     ]
    },
    {
     "name": "stderr",
     "output_type": "stream",
     "text": [
      " 38%|███▊      | 60/160 [19:38<35:02, 21.02s/it]"
     ]
    },
    {
     "name": "stdout",
     "output_type": "stream",
     "text": [
      "Processing: Russel Glass\n",
      "Found 7 URLs for query 'Russel Glass Menlo Park, California, United States Duke University'.\n",
      "Error fetching URL 'https://www.crunchbase.com/person/russell-glass': 403 Client Error: Forbidden for url: https://www.crunchbase.com/person/russell-glass\n"
     ]
    },
    {
     "name": "stderr",
     "output_type": "stream",
     "text": [
      " 38%|███▊      | 61/160 [19:58<34:20, 20.81s/it]"
     ]
    },
    {
     "name": "stdout",
     "output_type": "stream",
     "text": [
      "Progress saved at row 60.\n",
      "Processing: Sarah Glatt\n",
      "Found 7 URLs for query 'Sarah Glatt Greater Boston Brandeis University'.\n",
      "Error fetching URL 'https://www.crunchbase.com/person/sarah-glatt-c431': 403 Client Error: Forbidden for url: https://www.crunchbase.com/person/sarah-glatt-c431\n"
     ]
    },
    {
     "name": "stderr",
     "output_type": "stream",
     "text": [
      " 39%|███▉      | 62/160 [20:18<33:44, 20.66s/it]"
     ]
    },
    {
     "name": "stdout",
     "output_type": "stream",
     "text": [
      "Processing: Jennifer Goldfarb\n",
      "Found 7 URLs for query 'Jennifer Goldfarb Snowmass Village, Colorado, United States Duke University'.\n",
      "Error fetching URL 'https://www.crunchbase.com/person/jennifer-jaconetti-goldfarb': 403 Client Error: Forbidden for url: https://www.crunchbase.com/person/jennifer-jaconetti-goldfarb\n",
      "Error fetching URL 'https://worldtraveladventurers.com/snowmass-village-guide-one-of-the-best-colorado-family-ski-resorts/': 406 Client Error: Not Acceptable for url: https://worldtraveladventurers.com/snowmass-village-guide-one-of-the-best-colorado-family-ski-resorts/\n"
     ]
    },
    {
     "name": "stderr",
     "output_type": "stream",
     "text": [
      " 39%|███▉      | 63/160 [20:40<34:01, 21.04s/it]"
     ]
    },
    {
     "name": "stdout",
     "output_type": "stream",
     "text": [
      "Processing: Mitchel Gorecki\n",
      "Found 7 URLs for query 'Mitchel Gorecki New York, New York, United States Duke University '.\n",
      "Error fetching URL 'https://www.crunchbase.com/person/mitchel-gorecki': 403 Client Error: Forbidden for url: https://www.crunchbase.com/person/mitchel-gorecki\n",
      "Error fetching URL 'https://www.f6s.com/member/mitchelgorecki1': 405 Client Error: Not Allowed for url: https://www.f6s.com/member/mitchelgorecki1\n"
     ]
    },
    {
     "name": "stderr",
     "output_type": "stream",
     "text": [
      " 40%|████      | 64/160 [21:18<41:48, 26.13s/it]"
     ]
    },
    {
     "name": "stdout",
     "output_type": "stream",
     "text": [
      "Processing: Sanj Goyle\n",
      "Found 7 URLs for query 'Sanj Goyle Menlo Park, California, United States Duke University'.\n",
      "Error fetching URL 'https://www.crunchbase.com/person/sanj-goyle': 403 Client Error: Forbidden for url: https://www.crunchbase.com/person/sanj-goyle\n",
      "Error fetching URL 'https://www.businesswire.com/news/home/20220907005968/en/American-Fair-Credit-Council-Names-Industry-Veterans-as-New-Board-Members': HTTPSConnectionPool(host='www.businesswire.com', port=443): Read timed out. (read timeout=10)\n"
     ]
    },
    {
     "name": "stderr",
     "output_type": "stream",
     "text": [
      " 41%|████      | 65/160 [21:46<42:08, 26.62s/it]"
     ]
    },
    {
     "name": "stdout",
     "output_type": "stream",
     "text": [
      "Processing: Mangesh Hattikudur\n",
      "Found 7 URLs for query 'Mangesh Hattikudur Brooklyn, New York, United States Duke University'.\n",
      "Error fetching URL 'https://muckrack.com/mangesh-hattikudur': 403 Client Error: Forbidden for url: https://muckrack.com/mangesh-hattikudur\n",
      "Error fetching URL 'https://pitchbook.com/profiles/person/104441-50P': 403 Client Error: Forbidden for url: https://pitchbook.com/profiles/person/104441-50P\n"
     ]
    },
    {
     "name": "stderr",
     "output_type": "stream",
     "text": [
      " 41%|████▏     | 66/160 [22:04<37:36, 24.01s/it]"
     ]
    },
    {
     "name": "stdout",
     "output_type": "stream",
     "text": [
      "Processing: Dan Hauber\n",
      "Found 7 URLs for query 'Dan Hauber New York, New York, United States Duke University'.\n",
      "Error fetching URL 'https://www.crunchbase.com/person/dan-hauber': 403 Client Error: Forbidden for url: https://www.crunchbase.com/person/dan-hauber\n",
      "Error fetching URL 'https://www.signalhire.com/profiles/dan-hauber%27s-email/15849279': 403 Client Error: Forbidden for url: https://www.signalhire.com/profiles/dan-hauber%27s-email/15849279\n"
     ]
    },
    {
     "name": "stderr",
     "output_type": "stream",
     "text": [
      " 42%|████▏     | 67/160 [22:21<33:48, 21.82s/it]"
     ]
    },
    {
     "name": "stdout",
     "output_type": "stream",
     "text": [
      "Processing: Stephen Hawthornthwaite\n",
      "Found 7 URLs for query 'Stephen Hawthornthwaite Palm Beach, Florida, United States Duke University'.\n",
      "Error fetching URL 'https://mastersofscale.com/people/stephen-hawthornthwaite/': 403 Client Error: Forbidden for url: https://mastersofscale.com/people/stephen-hawthornthwaite/\n",
      "Error fetching URL 'https://www.barrons.com/articles/20-minutes-with-roth-martin-co-founder-of-viral-eco-friendly-footwear-rothys-01620679211': 401 Client Error: HTTP Forbidden for url: https://www.barrons.com/articles/20-minutes-with-roth-martin-co-founder-of-viral-eco-friendly-footwear-rothys-01620679211\n"
     ]
    },
    {
     "name": "stderr",
     "output_type": "stream",
     "text": [
      " 42%|████▎     | 68/160 [22:39<31:53, 20.80s/it]"
     ]
    },
    {
     "name": "stdout",
     "output_type": "stream",
     "text": [
      "Processing: Anli He\n",
      "Found 7 URLs for query 'Anli He San Francisco Bay Area Wuhan University'.\n",
      "Error fetching URL 'https://www.crunchbase.com/person/anli-he': 403 Client Error: Forbidden for url: https://www.crunchbase.com/person/anli-he\n",
      "Error fetching URL 'https://www.crunchbase.com/organization/usens-inc-': 403 Client Error: Forbidden for url: https://www.crunchbase.com/organization/usens-inc-\n",
      "Error fetching URL 'https://www.zoominfo.com/p/Anli-He/-1434684173': 429 Client Error: Too Many Requests for url: https://www.zoominfo.com/p/Anli-He/-1434684173\n"
     ]
    },
    {
     "name": "stderr",
     "output_type": "stream",
     "text": [
      " 43%|████▎     | 69/160 [22:57<30:16, 19.97s/it]"
     ]
    },
    {
     "name": "stdout",
     "output_type": "stream",
     "text": [
      "Processing: Sue Heilbronner\n",
      "Found 7 URLs for query 'Sue Heilbronner Boulder, Colorado, United States Oberlin College'.\n",
      "Error fetching URL 'https://www.crunchbase.com/person/sue-heilbronner': 403 Client Error: Forbidden for url: https://www.crunchbase.com/person/sue-heilbronner\n"
     ]
    },
    {
     "name": "stderr",
     "output_type": "stream",
     "text": [
      " 44%|████▍     | 70/160 [23:15<28:51, 19.24s/it]"
     ]
    },
    {
     "name": "stdout",
     "output_type": "stream",
     "text": [
      "Processing: Christian Hernandez Gallardo\n",
      "Found 7 URLs for query 'Christian Hernandez Gallardo nan Duke University'.\n",
      "Error fetching URL 'https://www.weforum.org/people/christian-hernandez/': 403 Client Error: Forbidden for url: https://www.weforum.org/people/christian-hernandez/\n",
      "Error fetching URL 'https://www.crunchbase.com/person/christian-hernandez': 403 Client Error: Forbidden for url: https://www.crunchbase.com/person/christian-hernandez\n"
     ]
    },
    {
     "name": "stderr",
     "output_type": "stream",
     "text": [
      " 44%|████▍     | 71/160 [23:34<28:37, 19.30s/it]"
     ]
    },
    {
     "name": "stdout",
     "output_type": "stream",
     "text": [
      "Progress saved at row 70.\n",
      "Processing: Max Hodak\n",
      "Found 7 URLs for query 'Max Hodak Mountain View, California, United States Duke University'.\n",
      "Error fetching URL 'https://www.crunchbase.com/person/max-hodak': 403 Client Error: Forbidden for url: https://www.crunchbase.com/person/max-hodak\n"
     ]
    },
    {
     "name": "stderr",
     "output_type": "stream",
     "text": [
      " 45%|████▌     | 72/160 [23:54<28:33, 19.47s/it]"
     ]
    },
    {
     "name": "stdout",
     "output_type": "stream",
     "text": [
      "Processing: Damien Hoffman\n",
      "Found 7 URLs for query 'Damien Hoffman New York City Metropolitan Area Duke University'.\n",
      "Error fetching URL 'https://www.crunchbase.com/person/damien-hoffman': 403 Client Error: Forbidden for url: https://www.crunchbase.com/person/damien-hoffman\n"
     ]
    },
    {
     "name": "stderr",
     "output_type": "stream",
     "text": [
      " 46%|████▌     | 73/160 [24:11<27:10, 18.74s/it]"
     ]
    },
    {
     "name": "stdout",
     "output_type": "stream",
     "text": [
      "Processing: Rebecca Holmes\n",
      "Found 7 URLs for query 'Rebecca Holmes Raleigh-Durham-Chapel Hill Area Duke University'.\n"
     ]
    },
    {
     "name": "stderr",
     "output_type": "stream",
     "text": [
      " 46%|████▋     | 74/160 [24:34<28:29, 19.88s/it]"
     ]
    },
    {
     "name": "stdout",
     "output_type": "stream",
     "text": [
      "Processing: Eric Huang\n",
      "Found 7 URLs for query 'Eric Huang Durham, North Carolina, United States Harvard University'.\n",
      "Error fetching URL 'https://health.usnews.com/doctors/erich-huang-672928': HTTPSConnectionPool(host='health.usnews.com', port=443): Read timed out. (read timeout=10)\n"
     ]
    },
    {
     "name": "stderr",
     "output_type": "stream",
     "text": [
      " 47%|████▋     | 75/160 [25:04<32:51, 23.20s/it]"
     ]
    },
    {
     "name": "stdout",
     "output_type": "stream",
     "text": [
      "Processing: Natalie Hwang\n",
      "Found 7 URLs for query 'Natalie Hwang New York, New York, United States Duke University'.\n",
      "Error fetching URL 'https://www.crunchbase.com/person/natalie-hwang': 403 Client Error: Forbidden for url: https://www.crunchbase.com/person/natalie-hwang\n",
      "Error fetching URL 'https://pitchbook.com/profiles/person/29192-32P': 403 Client Error: Forbidden for url: https://pitchbook.com/profiles/person/29192-32P\n"
     ]
    },
    {
     "name": "stderr",
     "output_type": "stream",
     "text": [
      " 48%|████▊     | 76/160 [25:24<31:06, 22.22s/it]"
     ]
    },
    {
     "name": "stdout",
     "output_type": "stream",
     "text": [
      "Processing: Akshita Iyer\n",
      "Found 7 URLs for query 'Akshita Iyer Atlanta Metropolitan Area Duke University'.\n"
     ]
    },
    {
     "name": "stderr",
     "output_type": "stream",
     "text": [
      " 48%|████▊     | 77/160 [25:44<29:28, 21.30s/it]"
     ]
    },
    {
     "name": "stdout",
     "output_type": "stream",
     "text": [
      "Processing: Danielle James\n",
      "Found 7 URLs for query 'Danielle James New York, New York, United States Duke University'.\n",
      "Error fetching URL 'https://www.zoominfo.com/p/Danielle-James/-1859414566': 403 Client Error: Forbidden for url: https://www.zoominfo.com/p/Danielle-James/-1859414566\n"
     ]
    },
    {
     "name": "stderr",
     "output_type": "stream",
     "text": [
      " 49%|████▉     | 78/160 [26:04<28:52, 21.12s/it]"
     ]
    },
    {
     "name": "stdout",
     "output_type": "stream",
     "text": [
      "Processing: Chetan Jhaveri\n",
      "Found 7 URLs for query 'Chetan Jhaveri Philadelphia, Pennsylvania, United States Duke University'.\n",
      "Error fetching URL 'https://www.theknot.com/us/chetan-jhaveri-and-yuvaram-reddy-aug-2024/q-a': 403 Client Error: Forbidden for url: https://www.theknot.com/us/chetan-jhaveri-and-yuvaram-reddy-aug-2024/q-a\n",
      "Error fetching URL 'https://www.nytimes.com/2024/09/13/style/yuvaram-reddy-chetan-jhaveri-wedding.html': 403 Client Error: Forbidden for url: https://www.nytimes.com/2024/09/13/style/yuvaram-reddy-chetan-jhaveri-wedding.html\n"
     ]
    },
    {
     "name": "stderr",
     "output_type": "stream",
     "text": [
      " 49%|████▉     | 79/160 [26:21<26:47, 19.84s/it]"
     ]
    },
    {
     "name": "stdout",
     "output_type": "stream",
     "text": [
      "Processing: Sid Kandan\n",
      "Found 7 URLs for query 'Sid Kandan Los Altos, California, United States Duke University'.\n",
      "Error fetching URL 'https://www.crunchbase.com/person/sid-kandan-09e5': 403 Client Error: Forbidden for url: https://www.crunchbase.com/person/sid-kandan-09e5\n",
      "Error fetching URL 'https://www.f6s.com/member/sidkandan': 405 Client Error: Not Allowed for url: https://www.f6s.com/member/sidkandan\n",
      "Error fetching URL 'https://www.zoominfo.com/p/Sid-Kandan/-1487338829': 403 Client Error: Forbidden for url: https://www.zoominfo.com/p/Sid-Kandan/-1487338829\n"
     ]
    },
    {
     "name": "stderr",
     "output_type": "stream",
     "text": [
      " 50%|█████     | 80/160 [26:38<25:18, 18.99s/it]"
     ]
    },
    {
     "name": "stdout",
     "output_type": "stream",
     "text": [
      "Processing: Yunha Kim\n",
      "Found 7 URLs for query 'Yunha Kim San Francisco, California, United States Duke University '.\n",
      "Error fetching URL 'https://www.news.com.au/finance/small-business/locket-ceo-yunha-kim-reveals-what-its-really-like-being-a-female-ceo-in-silicon-valley/news-story/63ee4175f0e4fc20331ee1de2d8f39ae': 403 Client Error: Forbidden for url: https://www.news.com.au/finance/small-business/locket-ceo-yunha-kim-reveals-what-its-really-like-being-a-female-ceo-in-silicon-valley/news-story/63ee4175f0e4fc20331ee1de2d8f39ae\n",
      "Error fetching URL 'https://www.crunchbase.com/person/yunha-kim': 403 Client Error: Forbidden for url: https://www.crunchbase.com/person/yunha-kim\n",
      "Error fetching URL 'https://www.juliusbaer.com/en/insights/wealth-insights/business/millennial-ceo-yunha-kim-in-pursuit-of-app-iness/': ('Connection aborted.', RemoteDisconnected('Remote end closed connection without response'))\n"
     ]
    },
    {
     "name": "stderr",
     "output_type": "stream",
     "text": [
      " 51%|█████     | 81/160 [26:57<24:49, 18.86s/it]"
     ]
    },
    {
     "name": "stdout",
     "output_type": "stream",
     "text": [
      "Progress saved at row 80.\n",
      "Processing: Dave Kirkpatrick\n",
      "Found 7 URLs for query 'Dave Kirkpatrick Durham, North Carolina, United States Duke University'.\n",
      "Error fetching URL 'https://www.crunchbase.com/person/dave-kirkpatrick': 403 Client Error: Forbidden for url: https://www.crunchbase.com/person/dave-kirkpatrick\n",
      "Error fetching URL 'https://pitchbook.com/profiles/person/15616-72P': 403 Client Error: Forbidden for url: https://pitchbook.com/profiles/person/15616-72P\n"
     ]
    },
    {
     "name": "stderr",
     "output_type": "stream",
     "text": [
      " 51%|█████▏    | 82/160 [27:19<25:59, 19.99s/it]"
     ]
    },
    {
     "name": "stdout",
     "output_type": "stream",
     "text": [
      "Processing: Kasper Kubica\n",
      "Found 7 URLs for query 'Kasper Kubica Durham, North Carolina, United States Duke University'.\n"
     ]
    },
    {
     "name": "stderr",
     "output_type": "stream",
     "text": [
      " 52%|█████▏    | 83/160 [27:39<25:28, 19.86s/it]"
     ]
    },
    {
     "name": "stdout",
     "output_type": "stream",
     "text": [
      "Processing: Alexander Kvamme\n",
      "Found 7 URLs for query 'Alexander Kvamme Menlo Park, California, United States Duke University'.\n",
      "Error fetching URL 'https://www.crunchbase.com/person/alexander-kvamme': 403 Client Error: Forbidden for url: https://www.crunchbase.com/person/alexander-kvamme\n",
      "Error fetching URL 'https://wellfound.com/p/alexanderkvamme': 403 Client Error: Forbidden for url: https://wellfound.com/p/alexanderkvamme\n",
      "Error fetching URL 'https://pitchbook.com/profiles/investor/228927-07': 403 Client Error: Forbidden for url: https://pitchbook.com/profiles/investor/228927-07\n"
     ]
    },
    {
     "name": "stderr",
     "output_type": "stream",
     "text": [
      " 52%|█████▎    | 84/160 [27:57<24:31, 19.36s/it]"
     ]
    },
    {
     "name": "stdout",
     "output_type": "stream",
     "text": [
      "Processing: David L.Johnson\n",
      "Found 7 URLs for query 'David L.Johnson New York, New York, United States Duke University'.\n"
     ]
    },
    {
     "name": "stderr",
     "output_type": "stream",
     "text": [
      " 53%|█████▎    | 85/160 [28:18<24:57, 19.97s/it]"
     ]
    },
    {
     "name": "stdout",
     "output_type": "stream",
     "text": [
      "Processing: Sterling Lanier\n",
      "Found 7 URLs for query 'Sterling Lanier Menlo Park, California, United States Duke University'.\n",
      "Error fetching URL 'https://pitchbook.com/profiles/person/47154-70P': 403 Client Error: Forbidden for url: https://pitchbook.com/profiles/person/47154-70P\n",
      "Error fetching URL 'https://www.crunchbase.com/person/sterling-lanier': 403 Client Error: Forbidden for url: https://www.crunchbase.com/person/sterling-lanier\n",
      "Error fetching URL 'https://turnkeystaffing.com/author/author1/': HTTPSConnectionPool(host='turnkeystaffing.com', port=443): Max retries exceeded with url: /author/author1/ (Caused by SSLError(SSLCertVerificationError(1, '[SSL: CERTIFICATE_VERIFY_FAILED] certificate verify failed: unable to get local issuer certificate (_ssl.c:1000)')))\n",
      "Error fetching URL 'https://pitchbook.com/profiles/company/515215-99': 403 Client Error: Forbidden for url: https://pitchbook.com/profiles/company/515215-99\n"
     ]
    },
    {
     "name": "stderr",
     "output_type": "stream",
     "text": [
      " 54%|█████▍    | 86/160 [28:37<24:03, 19.51s/it]"
     ]
    },
    {
     "name": "stdout",
     "output_type": "stream",
     "text": [
      "Processing: Dylan Lauren\n",
      "Found 7 URLs for query 'Dylan Lauren New York, New York, United States Duke University'.\n",
      "Error fetching URL 'https://www.newyorklifestylesmagazine.com/archives/02_16/articles/dylanlauren.html': HTTPSConnectionPool(host='www.newyorklifestylesmagazine.com', port=443): Max retries exceeded with url: /archives/02_16/articles/dylanlauren.html (Caused by SSLError(SSLCertVerificationError(1, '[SSL: CERTIFICATE_VERIFY_FAILED] certificate verify failed: certificate has expired (_ssl.c:1000)')))\n",
      "Error fetching URL 'https://www.ctpost.com/news/article/How-the-Founder-of-Dylan-s-Candy-Bar-Built-an-11232551.php': 403 Client Error: Forbidden for url: https://www.ctpost.com/news/article/How-the-Founder-of-Dylan-s-Candy-Bar-Built-an-11232551.php\n"
     ]
    },
    {
     "name": "stderr",
     "output_type": "stream",
     "text": [
      " 54%|█████▍    | 87/160 [28:54<22:51, 18.79s/it]"
     ]
    },
    {
     "name": "stdout",
     "output_type": "stream",
     "text": [
      "Processing: Ryan Lee\n",
      "Found 7 URLs for query 'Ryan Lee San Francisco, California, United States Duke University'.\n",
      "Error fetching URL 'https://www.crunchbase.com/person/ryan-drake-lee': 403 Client Error: Forbidden for url: https://www.crunchbase.com/person/ryan-drake-lee\n",
      "Error fetching URL 'https://www.crunchbase.com/person/ryan-lee-9410': 403 Client Error: Forbidden for url: https://www.crunchbase.com/person/ryan-lee-9410\n",
      "Error fetching URL 'https://www.zoominfo.com/p/Ryan-Lee/9119633822': 403 Client Error: Forbidden for url: https://www.zoominfo.com/p/Ryan-Lee/9119633822\n",
      "Error fetching URL 'https://www.crunchbase.com/person/ryan-lee-6': 403 Client Error: Forbidden for url: https://www.crunchbase.com/person/ryan-lee-6\n"
     ]
    },
    {
     "name": "stderr",
     "output_type": "stream",
     "text": [
      " 55%|█████▌    | 88/160 [29:05<19:50, 16.54s/it]"
     ]
    },
    {
     "name": "stdout",
     "output_type": "stream",
     "text": [
      "No text extracted for Ryan Lee. Skipping.\n",
      "Processing: Thomas Lehrman\n",
      "Found 7 URLs for query 'Thomas Lehrman Nashville, Tennessee, United States Duke University'.\n"
     ]
    },
    {
     "name": "stderr",
     "output_type": "stream",
     "text": [
      " 56%|█████▌    | 89/160 [29:26<20:54, 17.67s/it]"
     ]
    },
    {
     "name": "stdout",
     "output_type": "stream",
     "text": [
      "Processing: Howard Lerman\n",
      "Found 7 URLs for query 'Howard Lerman Miami Beach, Florida, United States Duke University'.\n",
      "Error fetching URL 'https://www.crunchbase.com/person/howard-lerman': 403 Client Error: Forbidden for url: https://www.crunchbase.com/person/howard-lerman\n"
     ]
    },
    {
     "name": "stderr",
     "output_type": "stream",
     "text": [
      " 56%|█████▋    | 90/160 [29:44<20:53, 17.91s/it]"
     ]
    },
    {
     "name": "stdout",
     "output_type": "stream",
     "text": [
      "Processing: Gabrielle Levac\n",
      "Found 7 URLs for query 'Gabrielle Levac San Francisco Bay Area Duke University'.\n",
      "Error fetching URL 'https://www.crunchbase.com/person/gabrielle-levac': 403 Client Error: Forbidden for url: https://www.crunchbase.com/person/gabrielle-levac\n"
     ]
    },
    {
     "name": "stderr",
     "output_type": "stream",
     "text": [
      " 57%|█████▋    | 91/160 [30:03<20:55, 18.19s/it]"
     ]
    },
    {
     "name": "stdout",
     "output_type": "stream",
     "text": [
      "Progress saved at row 90.\n",
      "Processing: Dan Levitan \n",
      "Found 7 URLs for query 'Dan Levitan  Seattle, Washington, United States Duke University'.\n",
      "Error fetching URL 'https://pitchbook.com/profiles/person/13598-74P': 403 Client Error: Forbidden for url: https://pitchbook.com/profiles/person/13598-74P\n",
      "Error fetching URL 'https://www.geekwire.com/2014/maverons-dan-levitan-midas-touch-seattle-vc-named-one/': 403 Client Error: Forbidden for url: https://www.geekwire.com/2014/maverons-dan-levitan-midas-touch-seattle-vc-named-one/\n",
      "Error fetching URL 'https://pitchbook.com/profiles/investor/225286-84': 403 Client Error: Forbidden for url: https://pitchbook.com/profiles/investor/225286-84\n",
      "Error fetching URL 'https://www.crunchbase.com/person/dan-levitan': 403 Client Error: Forbidden for url: https://www.crunchbase.com/person/dan-levitan\n"
     ]
    },
    {
     "name": "stderr",
     "output_type": "stream",
     "text": [
      " 57%|█████▊    | 92/160 [30:19<19:55, 17.59s/it]"
     ]
    },
    {
     "name": "stdout",
     "output_type": "stream",
     "text": [
      "Processing: Jes Lipson\n",
      "Found 7 URLs for query 'Jes Lipson Raleigh, North Carolina, United States Duke University'.\n",
      "Error fetching URL 'https://www.crunchbase.com/person/jesse-lipson': 403 Client Error: Forbidden for url: https://www.crunchbase.com/person/jesse-lipson\n"
     ]
    },
    {
     "name": "stderr",
     "output_type": "stream",
     "text": [
      " 58%|█████▊    | 93/160 [30:38<20:07, 18.02s/it]"
     ]
    },
    {
     "name": "stdout",
     "output_type": "stream",
     "text": [
      "Processing: Howie Liu\n",
      "Found 7 URLs for query 'Howie Liu San Francisco, California, United States Duke University'.\n",
      "Error fetching URL 'https://pitchbook.com/profiles/person/41875-48P': 403 Client Error: Forbidden for url: https://pitchbook.com/profiles/person/41875-48P\n",
      "Error fetching URL 'https://www.crunchbase.com/person/howie-liu': 403 Client Error: Forbidden for url: https://www.crunchbase.com/person/howie-liu\n",
      "Error fetching URL 'https://pitchbook.com/profiles/investor/267068-26': 403 Client Error: Forbidden for url: https://pitchbook.com/profiles/investor/267068-26\n"
     ]
    },
    {
     "name": "stderr",
     "output_type": "stream",
     "text": [
      " 59%|█████▉    | 94/160 [30:55<19:34, 17.80s/it]"
     ]
    },
    {
     "name": "stdout",
     "output_type": "stream",
     "text": [
      "Processing: Poman Lo\n",
      "Found 7 URLs for query 'Poman Lo Hong Kong, Hong Kong SAR Duke University'.\n",
      "Error fetching URL 'https://mgmt.hkust.edu.hk/faculty-and-staff/directory/PomanLo': HTTPSConnectionPool(host='mgmt.hkust.edu.hk', port=443): Max retries exceeded with url: /faculty-and-staff/directory/PomanLo (Caused by SSLError(SSLCertVerificationError(1, '[SSL: CERTIFICATE_VERIFY_FAILED] certificate verify failed: unable to get local issuer certificate (_ssl.c:1000)')))\n",
      "Error fetching URL 'https://www.prestigeonline.com/hk/people/women-of-power/poman-lo/': 403 Client Error: Forbidden for url: https://www.prestigeonline.com/hk/people/women-of-power/poman-lo/\n"
     ]
    },
    {
     "name": "stderr",
     "output_type": "stream",
     "text": [
      " 59%|█████▉    | 95/160 [31:20<21:22, 19.73s/it]"
     ]
    },
    {
     "name": "stdout",
     "output_type": "stream",
     "text": [
      "Processing: Yoav Lurie\n",
      "Found 7 URLs for query 'Yoav Lurie Boulder, Colorado, United States Duke University'.\n",
      "Error fetching URL 'https://www.crunchbase.com/person/yoav-lurie': 403 Client Error: Forbidden for url: https://www.crunchbase.com/person/yoav-lurie\n"
     ]
    },
    {
     "name": "stderr",
     "output_type": "stream",
     "text": [
      " 60%|██████    | 96/160 [31:39<20:52, 19.56s/it]"
     ]
    },
    {
     "name": "stdout",
     "output_type": "stream",
     "text": [
      "Processing: Jason Lynn\n",
      "Found 7 URLs for query 'Jason Lynn New York, New York, United States Duke University'.\n",
      "Error fetching URL 'https://www.crunchbase.com/person/jason-lynn': 403 Client Error: Forbidden for url: https://www.crunchbase.com/person/jason-lynn\n"
     ]
    },
    {
     "name": "stderr",
     "output_type": "stream",
     "text": [
      " 61%|██████    | 97/160 [31:57<20:08, 19.18s/it]"
     ]
    },
    {
     "name": "stdout",
     "output_type": "stream",
     "text": [
      "Processing: John Mattox\n",
      "Found 7 URLs for query 'John Mattox Los Angeles, California, United States Emory University'.\n",
      "Error fetching URL 'https://www.whitepages.com/name/John-Mattox/CA': 403 Client Error: Forbidden for url: https://www.whitepages.com/name/John-Mattox/CA\n",
      "Error fetching URL 'https://www.bizapedia.com/people/california/john-mattox.html': HTTPSConnectionPool(host='www.bizapedia.com', port=443): Read timed out. (read timeout=10)\n"
     ]
    },
    {
     "name": "stderr",
     "output_type": "stream",
     "text": [
      " 61%|██████▏   | 98/160 [32:25<22:35, 21.87s/it]"
     ]
    },
    {
     "name": "stdout",
     "output_type": "stream",
     "text": [
      "Processing: Sean McCormack\n",
      "Found 7 URLs for query 'Sean McCormack New York, New York, United States Duke University'.\n",
      "Error fetching URL 'https://www.crunchbase.com/person/sean-mccormack-5380': 403 Client Error: Forbidden for url: https://www.crunchbase.com/person/sean-mccormack-5380\n",
      "Error fetching URL 'https://www.zoominfo.com/p/Sean-Mccormack/-1522256292': 403 Client Error: Forbidden for url: https://www.zoominfo.com/p/Sean-Mccormack/-1522256292\n",
      "Error fetching URL 'https://www.f6s.com/member/seanmccormack': 405 Client Error: Not Allowed for url: https://www.f6s.com/member/seanmccormack\n"
     ]
    },
    {
     "name": "stderr",
     "output_type": "stream",
     "text": [
      " 62%|██████▏   | 99/160 [32:41<20:30, 20.18s/it]"
     ]
    },
    {
     "name": "stdout",
     "output_type": "stream",
     "text": [
      "Processing: Rob McDonald\n",
      "Found 7 URLs for query 'Rob McDonald Cincinnati, Ohio, United States Duke University'.\n",
      "Error fetching URL 'https://www.taftlaw.com/people/robert-w-mcdonald/': 403 Client Error: Forbidden for url: https://www.taftlaw.com/people/robert-w-mcdonald/\n",
      "Error fetching URL 'https://www.crunchbase.com/person/rob-mcdonald': 403 Client Error: Forbidden for url: https://www.crunchbase.com/person/rob-mcdonald\n",
      "Error fetching URL 'https://www.taftlaw.com/news-events/news/taft-attorney-robert-w-mcdonald-elected-to-board-of-dan-beard-council-boy-scouts-of-america/': 403 Client Error: Forbidden for url: https://www.taftlaw.com/news-events/news/taft-attorney-robert-w-mcdonald-elected-to-board-of-dan-beard-council-boy-scouts-of-america/\n"
     ]
    },
    {
     "name": "stderr",
     "output_type": "stream",
     "text": [
      " 62%|██████▎   | 100/160 [32:59<19:21, 19.37s/it]"
     ]
    },
    {
     "name": "stdout",
     "output_type": "stream",
     "text": [
      "Processing: Stephen Meyer\n",
      "Found 7 URLs for query 'Stephen Meyer San Francisco, California, United States Duke University'.\n",
      "Error fetching URL 'https://www.f6s.com/member/stephenmeyer': 405 Client Error: Not Allowed for url: https://www.f6s.com/member/stephenmeyer\n",
      "Error fetching URL 'https://www.leadar.info/profile/62869c3795a814c6b4e7f38f': 403 Client Error: Forbidden for url: https://www.leadar.info/profile/62869c3795a814c6b4e7f38f\n"
     ]
    },
    {
     "name": "stderr",
     "output_type": "stream",
     "text": [
      " 63%|██████▎   | 101/160 [33:19<19:21, 19.68s/it]"
     ]
    },
    {
     "name": "stdout",
     "output_type": "stream",
     "text": [
      "Progress saved at row 100.\n",
      "Processing: Kathryn Minshew\n",
      "Found 7 URLs for query 'Kathryn Minshew New York, New York, United States Duke University'.\n",
      "Error fetching URL 'https://www.crunchbase.com/person/kathryn-minshew': 403 Client Error: Forbidden for url: https://www.crunchbase.com/person/kathryn-minshew\n",
      "Error fetching URL 'https://pitchbook.com/profiles/person/40283-92P': 403 Client Error: Forbidden for url: https://pitchbook.com/profiles/person/40283-92P\n"
     ]
    },
    {
     "name": "stderr",
     "output_type": "stream",
     "text": [
      " 64%|██████▍   | 102/160 [33:38<18:49, 19.47s/it]"
     ]
    },
    {
     "name": "stdout",
     "output_type": "stream",
     "text": [
      "Processing: Brian Model\n",
      "Found 7 URLs for query 'Brian Model Tampa, Florida, United States Duke University'.\n",
      "Error fetching URL 'https://topmarkpartners.com/team/brian-model/': 406 Client Error: Not Acceptable for url: https://topmarkpartners.com/team/brian-model/\n",
      "Error fetching URL 'https://pitchbook.com/profiles/person/12864-34P': 403 Client Error: Forbidden for url: https://pitchbook.com/profiles/person/12864-34P\n",
      "Error fetching URL 'https://topmarkpartners.com/author/brian-model/': 406 Client Error: Not Acceptable for url: https://topmarkpartners.com/author/brian-model/\n",
      "Error fetching URL 'https://www.zoominfo.com/p/Brian-Model/5106425051': 403 Client Error: Forbidden for url: https://www.zoominfo.com/p/Brian-Model/5106425051\n"
     ]
    },
    {
     "name": "stderr",
     "output_type": "stream",
     "text": [
      " 64%|██████▍   | 103/160 [33:54<17:32, 18.46s/it]"
     ]
    },
    {
     "name": "stdout",
     "output_type": "stream",
     "text": [
      "Processing: Shashi Mudunuri\n",
      "Found 7 URLs for query 'Shashi Mudunuri Houston, Texas, United States Duke University'.\n",
      "Error fetching URL 'https://www.zoominfo.com/p/Shashi-Mudunuri/1474183335': 403 Client Error: Forbidden for url: https://www.zoominfo.com/p/Shashi-Mudunuri/1474183335\n"
     ]
    },
    {
     "name": "stderr",
     "output_type": "stream",
     "text": [
      " 65%|██████▌   | 104/160 [34:14<17:26, 18.69s/it]"
     ]
    },
    {
     "name": "stdout",
     "output_type": "stream",
     "text": [
      "Processing: Rosanna Myers\n",
      "Found 7 URLs for query 'Rosanna Myers San Francisco, California, United States Duke University'.\n",
      "Error fetching URL 'https://www.crunchbase.com/person/rosanna-myers': 403 Client Error: Forbidden for url: https://www.crunchbase.com/person/rosanna-myers\n",
      "Error fetching URL 'https://www.f6s.com/member/rosannamyers': 405 Client Error: Not Allowed for url: https://www.f6s.com/member/rosannamyers\n",
      "Error fetching URL 'https://www.f6s.com/company/carbonrobotics': 405 Client Error: Not Allowed for url: https://www.f6s.com/company/carbonrobotics\n"
     ]
    },
    {
     "name": "stderr",
     "output_type": "stream",
     "text": [
      " 66%|██████▌   | 105/160 [34:29<16:16, 17.76s/it]"
     ]
    },
    {
     "name": "stdout",
     "output_type": "stream",
     "text": [
      "Processing: Meranee Naaman\n",
      "Found 7 URLs for query 'Meranee Naaman Bethesda, Maryland, United States Duke University'.\n",
      "Error fetching URL 'https://www.crunchbase.com/person/meranee-phing': 403 Client Error: Forbidden for url: https://www.crunchbase.com/person/meranee-phing\n",
      "Error fetching URL 'https://pitchbook.com/profiles/person/13891-42P': 403 Client Error: Forbidden for url: https://pitchbook.com/profiles/person/13891-42P\n",
      "Error fetching URL 'https://www.whitepages.com/name/Meranee-Naaman/Bethesda-MD': 403 Client Error: Forbidden for url: https://www.whitepages.com/name/Meranee-Naaman/Bethesda-MD\n",
      "Error fetching URL 'https://www.whitepages.com/name/Meranee-Naaman/MD': 403 Client Error: Forbidden for url: https://www.whitepages.com/name/Meranee-Naaman/MD\n"
     ]
    },
    {
     "name": "stderr",
     "output_type": "stream",
     "text": [
      " 66%|██████▋   | 106/160 [34:46<15:48, 17.56s/it]"
     ]
    },
    {
     "name": "stdout",
     "output_type": "stream",
     "text": [
      "Processing: Emmet Nicholas\n",
      "Found 7 URLs for query 'Emmet Nicholas Greater Seattle Area Duke University'.\n",
      "Error fetching URL 'https://www.crunchbase.com/person/emmett-nicholas': 403 Client Error: Forbidden for url: https://www.crunchbase.com/person/emmett-nicholas\n"
     ]
    },
    {
     "name": "stderr",
     "output_type": "stream",
     "text": [
      " 67%|██████▋   | 107/160 [35:03<15:17, 17.31s/it]"
     ]
    },
    {
     "name": "stdout",
     "output_type": "stream",
     "text": [
      "Processing: Andrew Ofstad\n",
      "Found 7 URLs for query 'Andrew Ofstad San Francisco, California, United States Duke University'.\n",
      "Error fetching URL 'https://www.crunchbase.com/person/andrew-ofstad': 403 Client Error: Forbidden for url: https://www.crunchbase.com/person/andrew-ofstad\n"
     ]
    },
    {
     "name": "stderr",
     "output_type": "stream",
     "text": [
      " 68%|██████▊   | 108/160 [35:21<15:08, 17.46s/it]"
     ]
    },
    {
     "name": "stdout",
     "output_type": "stream",
     "text": [
      "Processing: Vamsee Pamula\n",
      "Found 7 URLs for query 'Vamsee Pamula Durham, North Carolina, United States University College of Engineering, Osmania University'.\n",
      "Error fetching URL 'https://www.researchgate.net/profile/Vamsee-Pamula': 403 Client Error: Forbidden for url: https://www.researchgate.net/profile/Vamsee-Pamula\n",
      "Error fetching URL 'https://ieeexplore.ieee.org/author/37281819900': 418 Client Error: Unknown Code for url: https://ieeexplore.ieee.org/author/37281819900\n"
     ]
    },
    {
     "name": "stderr",
     "output_type": "stream",
     "text": [
      " 68%|██████▊   | 109/160 [35:41<15:35, 18.34s/it]"
     ]
    },
    {
     "name": "stdout",
     "output_type": "stream",
     "text": [
      "Processing: Odysseas Papadimitriou\n",
      "Found 7 URLs for query 'Odysseas Papadimitriou United States Brow University'.\n",
      "Error fetching URL 'https://www.crunchbase.com/person/odysseas-papadimitriou': 403 Client Error: Forbidden for url: https://www.crunchbase.com/person/odysseas-papadimitriou\n",
      "Error fetching URL 'https://seekingalpha.com/author/odysseas-papadimitriou': 403 Client Error: Forbidden for url: https://seekingalpha.com/author/odysseas-papadimitriou\n"
     ]
    },
    {
     "name": "stderr",
     "output_type": "stream",
     "text": [
      " 69%|██████▉   | 110/160 [36:03<16:10, 19.42s/it]"
     ]
    },
    {
     "name": "stdout",
     "output_type": "stream",
     "text": [
      "Processing: Aaron Patzer\n",
      "Found 7 URLs for query 'Aaron Patzer Palmetto, Florida, United States Duke University'.\n",
      "Error fetching URL 'https://www.researchgate.net/profile/Aaron-Patzer': 403 Client Error: Forbidden for url: https://www.researchgate.net/profile/Aaron-Patzer\n",
      "Error fetching URL 'https://www.crunchbase.com/person/aaron-patzer': 403 Client Error: Forbidden for url: https://www.crunchbase.com/person/aaron-patzer\n"
     ]
    },
    {
     "name": "stderr",
     "output_type": "stream",
     "text": [
      " 69%|██████▉   | 111/160 [36:25<16:24, 20.09s/it]"
     ]
    },
    {
     "name": "stdout",
     "output_type": "stream",
     "text": [
      "Progress saved at row 110.\n",
      "Processing: Josh Payne\n",
      "Found 7 URLs for query 'Josh Payne Nashville, Tennessee, United States Indiana University Bloomington'.\n",
      "Error fetching URL 'https://www.crunchbase.com/person/josh-payne': 403 Client Error: Forbidden for url: https://www.crunchbase.com/person/josh-payne\n"
     ]
    },
    {
     "name": "stderr",
     "output_type": "stream",
     "text": [
      " 70%|███████   | 112/160 [36:43<15:33, 19.46s/it]"
     ]
    },
    {
     "name": "stdout",
     "output_type": "stream",
     "text": [
      "Processing: Will Pearson\n",
      "Found 7 URLs for query 'Will Pearson Atlanta, Georgia, United States Duke University'.\n"
     ]
    },
    {
     "name": "stderr",
     "output_type": "stream",
     "text": [
      " 71%|███████   | 113/160 [37:02<15:05, 19.27s/it]"
     ]
    },
    {
     "name": "stdout",
     "output_type": "stream",
     "text": [
      "Processing: Noah Perin\n",
      "Found 7 URLs for query 'Noah Perin Seattle, Washington, United States University of California, Santa Cruz'.\n",
      "Error fetching URL 'https://rice360.rice.edu/faculty/noah-perin': 406 Client Error: Not Acceptable for url: https://rice360.rice.edu/faculty/noah-perin\n",
      "Error fetching URL 'https://www.f6s.com/member/noahperin': 405 Client Error: Not Allowed for url: https://www.f6s.com/member/noahperin\n",
      "Error fetching URL 'https://www.crunchbase.com/person/noah-perin': 403 Client Error: Forbidden for url: https://www.crunchbase.com/person/noah-perin\n",
      "Error fetching URL 'https://pitchbook.com/profiles/person/156584-17P': 403 Client Error: Forbidden for url: https://pitchbook.com/profiles/person/156584-17P\n",
      "Error fetching URL 'https://www.researchgate.net/profile/Noah-Perin-2': 403 Client Error: Forbidden for url: https://www.researchgate.net/profile/Noah-Perin-2\n"
     ]
    },
    {
     "name": "stderr",
     "output_type": "stream",
     "text": [
      " 71%|███████▏  | 114/160 [37:17<13:46, 17.96s/it]"
     ]
    },
    {
     "name": "stdout",
     "output_type": "stream",
     "text": [
      "Processing: Zachary Perret\n",
      "Found 7 URLs for query 'Zachary Perret San Francisco, California, United States Duke University'.\n",
      "Error fetching URL 'https://www.crunchbase.com/person/zach-perret': 403 Client Error: Forbidden for url: https://www.crunchbase.com/person/zach-perret\n",
      "Error fetching URL 'https://www.zoominfo.com/p/Zach-Perret/1660930597': 403 Client Error: Forbidden for url: https://www.zoominfo.com/p/Zach-Perret/1660930597\n",
      "Error fetching URL 'https://pitchbook.com/profiles/person/54051-13P': 403 Client Error: Forbidden for url: https://pitchbook.com/profiles/person/54051-13P\n"
     ]
    },
    {
     "name": "stderr",
     "output_type": "stream",
     "text": [
      " 72%|███████▏  | 115/160 [37:36<13:44, 18.33s/it]"
     ]
    },
    {
     "name": "stdout",
     "output_type": "stream",
     "text": [
      "Processing: Vadim Polikov\n",
      "Found 7 URLs for query 'Vadim Polikov Fulton, Maryland, United States Duke University'.\n"
     ]
    },
    {
     "name": "stderr",
     "output_type": "stream",
     "text": [
      " 72%|███████▎  | 116/160 [37:56<13:52, 18.92s/it]"
     ]
    },
    {
     "name": "stdout",
     "output_type": "stream",
     "text": [
      "Processing: Michael Pollack\n",
      "Found 7 URLs for query 'Michael Pollack San Diego, California, United States Purdue University'.\n",
      "Error fetching URL 'https://usa.watchpro.com/the-big-interview-heady-days-at-hyde-park-jewelers/': 403 Client Error: HTTP Forbidden for url: https://usa.watchpro.com/the-big-interview-heady-days-at-hyde-park-jewelers/\n"
     ]
    },
    {
     "name": "stderr",
     "output_type": "stream",
     "text": [
      " 73%|███████▎  | 117/160 [38:20<14:31, 20.27s/it]"
     ]
    },
    {
     "name": "stdout",
     "output_type": "stream",
     "text": [
      "Processing: Dan Pollard\n",
      "Found 7 URLs for query 'Dan Pollard Chapel Hill, North Carolina, United States Duke University'.\n",
      "Error fetching URL 'https://www.crunchbase.com/person/dan-pollard': 403 Client Error: Forbidden for url: https://www.crunchbase.com/person/dan-pollard\n"
     ]
    },
    {
     "name": "stderr",
     "output_type": "stream",
     "text": [
      " 74%|███████▍  | 118/160 [38:37<13:31, 19.32s/it]"
     ]
    },
    {
     "name": "stdout",
     "output_type": "stream",
     "text": [
      "Processing: JB Pritzker\n",
      "Found 7 URLs for query 'JB Pritzker Greater Chicago Area Duke University'.\n",
      "Error fetching URL 'https://www.chicagobusiness.com/awards/jb-pritzker-whos-who-chicago-business-2024': 403 Client Error: Forbidden for url: https://www.chicagobusiness.com/awards/jb-pritzker-whos-who-chicago-business-2024\n",
      "Error fetching URL 'https://www.chicagobusiness.com/awards/jb-pritzker-whos-who-chicago-business-2023': 403 Client Error: Forbidden for url: https://www.chicagobusiness.com/awards/jb-pritzker-whos-who-chicago-business-2023\n"
     ]
    },
    {
     "name": "stderr",
     "output_type": "stream",
     "text": [
      " 74%|███████▍  | 119/160 [38:55<12:55, 18.91s/it]"
     ]
    },
    {
     "name": "stdout",
     "output_type": "stream",
     "text": [
      "Processing: Erik Rannala\n",
      "Found 7 URLs for query 'Erik Rannala Austin, Texas Metropolitan Area University of Deleware'.\n",
      "Error fetching URL 'https://mucker.com/team/erik-rannala/': HTTPSConnectionPool(host='mucker.com', port=443): Read timed out. (read timeout=10)\n",
      "Error fetching URL 'https://vator.tv/news/2016-07-02-meet-erik-rannala-managing-partner-at-mucker-capital': HTTPSConnectionPool(host='vator.tv', port=443): Max retries exceeded with url: /news/2016-07-02-meet-erik-rannala-managing-partner-at-mucker-capital (Caused by SSLError(SSLCertVerificationError(1, '[SSL: CERTIFICATE_VERIFY_FAILED] certificate verify failed: certificate has expired (_ssl.c:1000)')))\n",
      "Error fetching URL 'https://www.crunchbase.com/person/erik-rannala': 403 Client Error: Forbidden for url: https://www.crunchbase.com/person/erik-rannala\n",
      "Error fetching URL 'https://pitchbook.com/profiles/person/41095-90P': 403 Client Error: Forbidden for url: https://pitchbook.com/profiles/person/41095-90P\n"
     ]
    },
    {
     "name": "stderr",
     "output_type": "stream",
     "text": [
      " 75%|███████▌  | 120/160 [39:24<14:40, 22.00s/it]"
     ]
    },
    {
     "name": "stdout",
     "output_type": "stream",
     "text": [
      "Processing: Joanna Rees\n",
      "Found 7 URLs for query 'Joanna Rees San Francisco, California, United States Duke University'.\n",
      "Error fetching URL 'https://www.crunchbase.com/person/joanna-rees': 403 Client Error: Forbidden for url: https://www.crunchbase.com/person/joanna-rees\n"
     ]
    },
    {
     "name": "stderr",
     "output_type": "stream",
     "text": [
      " 76%|███████▌  | 121/160 [39:47<14:29, 22.28s/it]"
     ]
    },
    {
     "name": "stdout",
     "output_type": "stream",
     "text": [
      "Progress saved at row 120.\n",
      "Processing: Matt Rising\n",
      "Found 7 URLs for query 'Matt Rising Los Angeles, California, United States Duke University'.\n",
      "Error fetching URL 'https://pitchbook.com/profiles/person/134859-97P': 403 Client Error: Forbidden for url: https://pitchbook.com/profiles/person/134859-97P\n",
      "Error fetching URL 'https://www.crunchbase.com/person/matthew-rising': 403 Client Error: Forbidden for url: https://www.crunchbase.com/person/matthew-rising\n",
      "Error fetching URL 'https://www.zoominfo.com/p/Matthew-Rising/1727269177': 403 Client Error: Forbidden for url: https://www.zoominfo.com/p/Matthew-Rising/1727269177\n"
     ]
    },
    {
     "name": "stderr",
     "output_type": "stream",
     "text": [
      " 76%|███████▋  | 122/160 [40:02<12:52, 20.33s/it]"
     ]
    },
    {
     "name": "stdout",
     "output_type": "stream",
     "text": [
      "Processing: Carmichael Roberts\n",
      "Found 7 URLs for query 'Carmichael Roberts Greater Boston Duke University'.\n"
     ]
    },
    {
     "name": "stderr",
     "output_type": "stream",
     "text": [
      " 77%|███████▋  | 123/160 [40:21<12:14, 19.86s/it]"
     ]
    },
    {
     "name": "stdout",
     "output_type": "stream",
     "text": [
      "Processing: Jason Robins\n",
      "Found 7 URLs for query 'Jason Robins Boston, Massachusetts, United States Duke University'.\n",
      "Error fetching URL 'https://www.gamblinginsider.com/executive/10/jason-robins': 403 Client Error: Forbidden for url: https://www.gamblinginsider.com/executive/10/jason-robins\n",
      "Error fetching URL 'https://pitchbook.com/profiles/person/42272-92P': 403 Client Error: Forbidden for url: https://pitchbook.com/profiles/person/42272-92P\n",
      "Error fetching URL 'https://www.crunchbase.com/person/jason-robins': 403 Client Error: Forbidden for url: https://www.crunchbase.com/person/jason-robins\n"
     ]
    },
    {
     "name": "stderr",
     "output_type": "stream",
     "text": [
      " 78%|███████▊  | 124/160 [40:38<11:18, 18.84s/it]"
     ]
    },
    {
     "name": "stdout",
     "output_type": "stream",
     "text": [
      "Processing: Tom Rose\n",
      "Found 7 URLs for query 'Tom Rose Brookline, Massachusetts, United States Duke University'.\n",
      "Error fetching URL 'https://www.crunchbase.com/person/tom-rose': 403 Client Error: Forbidden for url: https://www.crunchbase.com/person/tom-rose\n",
      "Error fetching URL 'https://www.zoominfo.com/p/Tom-Rose/1156118207': 403 Client Error: Forbidden for url: https://www.zoominfo.com/p/Tom-Rose/1156118207\n"
     ]
    },
    {
     "name": "stderr",
     "output_type": "stream",
     "text": [
      " 78%|███████▊  | 125/160 [40:56<10:54, 18.70s/it]"
     ]
    },
    {
     "name": "stdout",
     "output_type": "stream",
     "text": [
      "Processing: Kerry Rupp\n",
      "Found 7 URLs for query 'Kerry Rupp Austin, Texas Metropolitan Area Duke University'.\n",
      "Error fetching URL 'https://www.crunchbase.com/person/kerry-rupp': 403 Client Error: Forbidden for url: https://www.crunchbase.com/person/kerry-rupp\n"
     ]
    },
    {
     "name": "stderr",
     "output_type": "stream",
     "text": [
      " 79%|███████▉  | 126/160 [41:17<11:00, 19.44s/it]"
     ]
    },
    {
     "name": "stdout",
     "output_type": "stream",
     "text": [
      "Processing: Eric Savage\n",
      "Found 7 URLs for query 'Eric Savage Bengaluru, Karnataka, India Duke University'.\n"
     ]
    },
    {
     "name": "stderr",
     "output_type": "stream",
     "text": [
      " 79%|███████▉  | 127/160 [41:34<10:14, 18.63s/it]"
     ]
    },
    {
     "name": "stdout",
     "output_type": "stream",
     "text": [
      "Processing: Jim Scheinman\n",
      "Found 7 URLs for query 'Jim Scheinman Los Altos, California, United States Duke University'.\n",
      "Error fetching URL 'https://www.crunchbase.com/person/jim-scheinmen': 403 Client Error: Forbidden for url: https://www.crunchbase.com/person/jim-scheinmen\n",
      "Error fetching URL 'https://pitchbook.com/profiles/person/16257-97P': 403 Client Error: Forbidden for url: https://pitchbook.com/profiles/person/16257-97P\n",
      "Error fetching URL 'https://vator.tv/person/jim-scheinman': HTTPSConnectionPool(host='vator.tv', port=443): Max retries exceeded with url: /person/jim-scheinman (Caused by SSLError(SSLCertVerificationError(1, '[SSL: CERTIFICATE_VERIFY_FAILED] certificate verify failed: certificate has expired (_ssl.c:1000)')))\n"
     ]
    },
    {
     "name": "stderr",
     "output_type": "stream",
     "text": [
      " 80%|████████  | 128/160 [41:51<09:40, 18.15s/it]"
     ]
    },
    {
     "name": "stdout",
     "output_type": "stream",
     "text": [
      "Processing: Aaron Schumm\n",
      "Found 7 URLs for query 'Aaron Schumm New York, New York, United States University of Illinois Urbana-Champaign'.\n",
      "Error fetching URL 'https://www.crunchbase.com/person/aaron-schumm': 403 Client Error: Forbidden for url: https://www.crunchbase.com/person/aaron-schumm\n"
     ]
    },
    {
     "name": "stderr",
     "output_type": "stream",
     "text": [
      " 81%|████████  | 129/160 [42:11<09:38, 18.65s/it]"
     ]
    },
    {
     "name": "stdout",
     "output_type": "stream",
     "text": [
      "Processing: Jonathan Seeber\n",
      "Found 7 URLs for query 'Jonathan Seeber Washington, District of Columbia University, United States Duke University'.\n",
      "Error fetching URL 'https://www.crunchbase.com/person/jon-seeber': 403 Client Error: Forbidden for url: https://www.crunchbase.com/person/jon-seeber\n",
      "Error fetching URL 'https://pitchbook.com/profiles/person/28594-81P': 403 Client Error: Forbidden for url: https://pitchbook.com/profiles/person/28594-81P\n",
      "Error fetching URL 'https://www.zoominfo.com/p/Jon-Seeber/1170690886': 429 Client Error: Too Many Requests for url: https://www.zoominfo.com/p/Jon-Seeber/1170690886\n"
     ]
    },
    {
     "name": "stderr",
     "output_type": "stream",
     "text": [
      " 81%|████████▏ | 130/160 [42:28<09:03, 18.12s/it]"
     ]
    },
    {
     "name": "stdout",
     "output_type": "stream",
     "text": [
      "Processing: Justin Segall\n",
      "Found 7 URLs for query 'Justin Segall Boulder, Colorado, United States Duke University'.\n",
      "Error fetching URL 'https://www.crunchbase.com/person/justin-segall': 403 Client Error: Forbidden for url: https://www.crunchbase.com/person/justin-segall\n"
     ]
    },
    {
     "name": "stderr",
     "output_type": "stream",
     "text": [
      " 82%|████████▏ | 131/160 [42:47<08:51, 18.34s/it]"
     ]
    },
    {
     "name": "stdout",
     "output_type": "stream",
     "text": [
      "Progress saved at row 130.\n",
      "Processing: Reed Shaffner\n",
      "Found 7 URLs for query 'Reed Shaffner Cary, North Carolina, United States Duke University'.\n",
      "Error fetching URL 'https://www.crunchbase.com/person/reed-shaffner': 403 Client Error: Forbidden for url: https://www.crunchbase.com/person/reed-shaffner\n",
      "Error fetching URL 'https://pitchbook.com/profiles/person/50025-16P': 403 Client Error: Forbidden for url: https://pitchbook.com/profiles/person/50025-16P\n"
     ]
    },
    {
     "name": "stderr",
     "output_type": "stream",
     "text": [
      " 82%|████████▎ | 132/160 [43:05<08:36, 18.46s/it]"
     ]
    },
    {
     "name": "stdout",
     "output_type": "stream",
     "text": [
      "Processing: Ian Shakil\n",
      "Found 7 URLs for query 'Ian Shakil San Francisco, California, United States Duke University'.\n",
      "Error fetching URL 'https://www.crunchbase.com/person/ian-shakil': 403 Client Error: Forbidden for url: https://www.crunchbase.com/person/ian-shakil\n",
      "Error fetching URL 'https://wellfound.com/p/ian-shakil': 403 Client Error: Forbidden for url: https://wellfound.com/p/ian-shakil\n",
      "Error fetching URL 'https://www.f6s.com/member/ianshakil': 405 Client Error: Not Allowed for url: https://www.f6s.com/member/ianshakil\n",
      "Error fetching URL 'https://www.crunchbase.com/organization/augmedix': 403 Client Error: Forbidden for url: https://www.crunchbase.com/organization/augmedix\n"
     ]
    },
    {
     "name": "stderr",
     "output_type": "stream",
     "text": [
      " 83%|████████▎ | 133/160 [43:22<08:04, 17.96s/it]"
     ]
    },
    {
     "name": "stdout",
     "output_type": "stream",
     "text": [
      "Processing: Amit Sharma\n",
      "Found 7 URLs for query 'Amit Sharma United States VJTI Mumbai'.\n"
     ]
    },
    {
     "name": "stderr",
     "output_type": "stream",
     "text": [
      " 84%|████████▍ | 134/160 [43:44<08:20, 19.26s/it]"
     ]
    },
    {
     "name": "stdout",
     "output_type": "stream",
     "text": [
      "Processing: Neil Sharma\n",
      "Found 7 URLs for query 'Neil Sharma New York, New York, United States Duke University'.\n",
      "Error fetching URL 'https://www.crunchbase.com/person/neil-sharma-3': 403 Client Error: Forbidden for url: https://www.crunchbase.com/person/neil-sharma-3\n",
      "Error fetching URL 'https://www.zoominfo.com/p/Neil-Sharma/1567173907': 429 Client Error: Too Many Requests for url: https://www.zoominfo.com/p/Neil-Sharma/1567173907\n"
     ]
    },
    {
     "name": "stderr",
     "output_type": "stream",
     "text": [
      " 84%|████████▍ | 135/160 [44:02<07:46, 18.67s/it]"
     ]
    },
    {
     "name": "stdout",
     "output_type": "stream",
     "text": [
      "Processing: Chimay Singh\n",
      "Found 7 URLs for query 'Chimay Singh San Francisco Bay Area KNIT Sultanpur'.\n",
      "Error fetching URL 'https://collegedunia.com/college/13971-kamla-nehru-institute-of-technology-knit-sultanpur': 403 Client Error: Forbidden for url: https://collegedunia.com/college/13971-kamla-nehru-institute-of-technology-knit-sultanpur\n"
     ]
    },
    {
     "name": "stderr",
     "output_type": "stream",
     "text": [
      " 85%|████████▌ | 136/160 [44:19<07:20, 18.35s/it]"
     ]
    },
    {
     "name": "stdout",
     "output_type": "stream",
     "text": [
      "Processing: Dylan Smith\n",
      "Found 7 URLs for query 'Dylan Smith Menlo Park, California, United States Duke University'.\n",
      "Error fetching URL 'https://www.crunchbase.com/person/dylan-smith': 403 Client Error: Forbidden for url: https://www.crunchbase.com/person/dylan-smith\n",
      "Error fetching URL 'https://www.datanyze.com/people/Dylan-Smith/804843840': 403 Client Error: Forbidden for url: https://www.datanyze.com/people/Dylan-Smith/804843840\n",
      "Error fetching URL 'https://www.zoominfo.com/p/Dylan-Smith/804843840': 429 Client Error: Too Many Requests for url: https://www.zoominfo.com/p/Dylan-Smith/804843840\n"
     ]
    },
    {
     "name": "stderr",
     "output_type": "stream",
     "text": [
      " 86%|████████▌ | 137/160 [44:36<06:47, 17.73s/it]"
     ]
    },
    {
     "name": "stdout",
     "output_type": "stream",
     "text": [
      "Processing: David Spratte\n",
      "Found 7 URLs for query 'David Spratte Durham, North Carolina, United States UNC/Duke University'.\n"
     ]
    },
    {
     "name": "stderr",
     "output_type": "stream",
     "text": [
      " 86%|████████▋ | 138/160 [44:54<06:34, 17.92s/it]"
     ]
    },
    {
     "name": "stdout",
     "output_type": "stream",
     "text": [
      "Processing: Jake Stauch\n",
      "Found 7 URLs for query 'Jake Stauch San Francisco Bay Area Duke University'.\n",
      "Error fetching URL 'https://www.f6s.com/member/jakestauch': 405 Client Error: Not Allowed for url: https://www.f6s.com/member/jakestauch\n",
      "Error fetching URL 'https://www.crunchbase.com/person/jake-stauch': 403 Client Error: Forbidden for url: https://www.crunchbase.com/person/jake-stauch\n"
     ]
    },
    {
     "name": "stderr",
     "output_type": "stream",
     "text": [
      " 87%|████████▋ | 139/160 [45:16<06:40, 19.09s/it]"
     ]
    },
    {
     "name": "stdout",
     "output_type": "stream",
     "text": [
      "Processing: Jeff Sun\n",
      "Found 7 URLs for query 'Jeff Sun Falls Church, Virginia, United States Rice University'.\n",
      "Error fetching URL 'https://profiles.rice.edu/faculty': 406 Client Error: Not Acceptable for url: https://profiles.rice.edu/faculty\n",
      "Error fetching URL 'https://www.crunchbase.com/person/jeff-sun': 403 Client Error: Forbidden for url: https://www.crunchbase.com/person/jeff-sun\n",
      "Error fetching URL 'https://profiles.rice.edu/staff/jeff-falk': 406 Client Error: Not Acceptable for url: https://profiles.rice.edu/staff/jeff-falk\n"
     ]
    },
    {
     "name": "stderr",
     "output_type": "stream",
     "text": [
      " 88%|████████▊ | 140/160 [45:32<06:03, 18.17s/it]"
     ]
    },
    {
     "name": "stdout",
     "output_type": "stream",
     "text": [
      "Processing: Khaled Talhouni\n",
      "Found 7 URLs for query 'Khaled Talhouni Dubai, United Arab Emirates Duke University'.\n",
      "Error fetching URL 'https://pitchbook.com/profiles/person/115405-48P': 403 Client Error: Forbidden for url: https://pitchbook.com/profiles/person/115405-48P\n",
      "Error fetching URL 'https://www.crunchbase.com/person/khaled-talhouni': 403 Client Error: Forbidden for url: https://www.crunchbase.com/person/khaled-talhouni\n"
     ]
    },
    {
     "name": "stderr",
     "output_type": "stream",
     "text": [
      " 88%|████████▊ | 141/160 [45:53<06:03, 19.11s/it]"
     ]
    },
    {
     "name": "stdout",
     "output_type": "stream",
     "text": [
      "Progress saved at row 140.\n",
      "Processing: Hersh Tapadia\n",
      "Found 7 URLs for query 'Hersh Tapadia Raleigh-Durham-Chapel Hill Area North Carolina State University'.\n",
      "Error fetching URL 'https://www.newsobserver.com/news/business/article252468938.html': HTTPSConnectionPool(host='www.newsobserver.com', port=443): Read timed out. (read timeout=10)\n",
      "Error fetching URL 'https://www.crunchbase.com/person/hersh-tapadia': 403 Client Error: Forbidden for url: https://www.crunchbase.com/person/hersh-tapadia\n"
     ]
    },
    {
     "name": "stderr",
     "output_type": "stream",
     "text": [
      " 89%|████████▉ | 142/160 [46:22<06:37, 22.08s/it]"
     ]
    },
    {
     "name": "stdout",
     "output_type": "stream",
     "text": [
      "Processing: Michael Tauiliili-Brown\n",
      "Found 7 URLs for query 'Michael Tauiliili-Brown Houston, Texas, United States Duke University'.\n",
      "Error fetching URL 'https://www.houstonchronicle.com/techburger/article/Sports-tech-company-prepares-move-to-Houston-13792940.php': 403 Client Error: Forbidden for url: https://www.houstonchronicle.com/techburger/article/Sports-tech-company-prepares-move-to-Houston-13792940.php\n",
      "Error fetching URL 'https://www.f6s.com/member/michaeltauiliili-brown': 405 Client Error: Not Allowed for url: https://www.f6s.com/member/michaeltauiliili-brown\n"
     ]
    },
    {
     "name": "stderr",
     "output_type": "stream",
     "text": [
      " 89%|████████▉ | 143/160 [46:42<06:03, 21.40s/it]"
     ]
    },
    {
     "name": "stdout",
     "output_type": "stream",
     "text": [
      "Processing: Tarun Thakur\n",
      "Found 7 URLs for query 'Tarun Thakur San Francisco Bay Area Punjab Engineering College'.\n",
      "Error fetching URL 'https://www.zoominfo.com/p/Tarun-Thakur/6021689061': 429 Client Error: Too Many Requests for url: https://www.zoominfo.com/p/Tarun-Thakur/6021689061\n",
      "Error fetching URL 'https://www.crunchbase.com/person/tarun-thakur': 403 Client Error: Forbidden for url: https://www.crunchbase.com/person/tarun-thakur\n"
     ]
    },
    {
     "name": "stderr",
     "output_type": "stream",
     "text": [
      " 90%|█████████ | 144/160 [46:59<05:22, 20.15s/it]"
     ]
    },
    {
     "name": "stdout",
     "output_type": "stream",
     "text": [
      "Processing: Christopher Thompson\n",
      "Found 7 URLs for query 'Christopher Thompson Santa Monica, California, United States Georgetown University'.\n",
      "Error fetching URL 'https://www.crunchbase.com/person/chirs-thompson': 403 Client Error: Forbidden for url: https://www.crunchbase.com/person/chirs-thompson\n",
      "Error fetching URL 'https://wiza.co/d/cpi-solutions/5231/chris-thompson': 502 Server Error: Bad Gateway for url: https://wiza.co/d/cpi-solutions/5231/chris-thompson\n"
     ]
    },
    {
     "name": "stderr",
     "output_type": "stream",
     "text": [
      " 91%|█████████ | 145/160 [47:18<04:56, 19.79s/it]"
     ]
    },
    {
     "name": "stdout",
     "output_type": "stream",
     "text": [
      "Processing: Parker Treacy\n",
      "Found 7 URLs for query 'Parker Treacy São Paulo, São Paulo, Brazil Duke University'.\n",
      "Error fetching URL 'https://www.f6s.com/member/parkertreacy': 405 Client Error: Not Allowed for url: https://www.f6s.com/member/parkertreacy\n",
      "Error fetching URL 'https://www.crunchbase.com/person/parker-treacy': 403 Client Error: Forbidden for url: https://www.crunchbase.com/person/parker-treacy\n"
     ]
    },
    {
     "name": "stderr",
     "output_type": "stream",
     "text": [
      " 91%|█████████▏| 146/160 [47:37<04:35, 19.66s/it]"
     ]
    },
    {
     "name": "stdout",
     "output_type": "stream",
     "text": [
      "Processing: Terry Tucker\n",
      "Found 7 URLs for query 'Terry Tucker Atlanta Metropolitan Area Troy University'.\n",
      "Error fetching URL 'https://www.abc27.com/business/press-releases/ein-presswire/655070084/terry-tucker-named-president-and-ceo-of-frontline-response-international/': 403 Client Error: Forbidden for url: https://www.abc27.com/business/press-releases/ein-presswire/655070084/terry-tucker-named-president-and-ceo-of-frontline-response-international/\n",
      "Error fetching URL 'https://www.einnews.com/pr_news/655070084/terry-tucker-named-president-and-ceo-of-frontline-response-international': 403 Client Error: Forbidden for url: https://www.einnews.com/pr_news/655070084/terry-tucker-named-president-and-ceo-of-frontline-response-international\n",
      "Error fetching URL 'https://www.abc4.com/business/press-releases/ein-presswire/655070084/terry-tucker-named-president-and-ceo-of-frontline-response-international/': 403 Client Error: Forbidden for url: https://www.abc4.com/business/press-releases/ein-presswire/655070084/terry-tucker-named-president-and-ceo-of-frontline-response-international/\n",
      "Error fetching URL 'https://www.signalhire.com/profiles/terry-tucker%27s-email/15071027': 403 Client Error: Forbidden for url: https://www.signalhire.com/profiles/terry-tucker%27s-email/15071027\n"
     ]
    },
    {
     "name": "stderr",
     "output_type": "stream",
     "text": [
      " 92%|█████████▏| 147/160 [47:57<04:13, 19.53s/it]"
     ]
    },
    {
     "name": "stdout",
     "output_type": "stream",
     "text": [
      "Processing: Poornima Vijayashanker\n",
      "Found 7 URLs for query 'Poornima Vijayashanker Palo Alto, California, United States Duke University'.\n",
      "Error fetching URL 'https://www.crunchbase.com/person/poornima-vijayashanker': 403 Client Error: Forbidden for url: https://www.crunchbase.com/person/poornima-vijayashanker\n"
     ]
    },
    {
     "name": "stderr",
     "output_type": "stream",
     "text": [
      " 92%|█████████▎| 148/160 [48:18<03:59, 19.95s/it]"
     ]
    },
    {
     "name": "stdout",
     "output_type": "stream",
     "text": [
      "Processing: Luis von Ahn\n",
      "Found 7 URLs for query 'Luis von Ahn Pittsburgh, Pennsylvania, United States Duke University'.\n",
      "Error fetching URL 'https://duolingo.gcs-web.com/management/luis-von-ahn': HTTPSConnectionPool(host='duolingo.gcs-web.com', port=443): Read timed out. (read timeout=10)\n"
     ]
    },
    {
     "name": "stderr",
     "output_type": "stream",
     "text": [
      " 93%|█████████▎| 149/160 [48:46<04:06, 22.38s/it]"
     ]
    },
    {
     "name": "stdout",
     "output_type": "stream",
     "text": [
      "Processing: Chris Wade\n",
      "Found 7 URLs for query 'Chris Wade San Francisco, California, United States Duke University'.\n",
      "Error fetching URL 'https://pitchbook.com/profiles/person/50840-38P': 403 Client Error: Forbidden for url: https://pitchbook.com/profiles/person/50840-38P\n"
     ]
    },
    {
     "name": "stderr",
     "output_type": "stream",
     "text": [
      " 94%|█████████▍| 150/160 [49:05<03:33, 21.39s/it]"
     ]
    },
    {
     "name": "stdout",
     "output_type": "stream",
     "text": [
      "Processing: Ge Wang\n",
      "Found 7 URLs for query 'Ge Wang Mountain View, California, United States Duke University'.\n",
      "Error fetching URL 'https://drupal.cs.duke.edu/alumni/notable/wang_ge': HTTPSConnectionPool(host='drupal.cs.duke.edu', port=443): Max retries exceeded with url: /alumni/notable/wang_ge (Caused by ConnectTimeoutError(<urllib3.connection.HTTPSConnection object at 0x175feff80>, 'Connection to drupal.cs.duke.edu timed out. (connect timeout=10)'))\n"
     ]
    },
    {
     "name": "stderr",
     "output_type": "stream",
     "text": [
      " 94%|█████████▍| 151/160 [49:34<03:34, 23.87s/it]"
     ]
    },
    {
     "name": "stdout",
     "output_type": "stream",
     "text": [
      "Progress saved at row 150.\n",
      "Processing: Hua Wang\n",
      "Found 7 URLs for query 'Hua Wang Washington, District of Columbia University, United States Duke University'.\n"
     ]
    },
    {
     "name": "stderr",
     "output_type": "stream",
     "text": [
      " 95%|█████████▌| 152/160 [49:55<03:02, 22.76s/it]"
     ]
    },
    {
     "name": "stdout",
     "output_type": "stream",
     "text": [
      "Processing: Ivan Wang\n",
      "Found 7 URLs for query 'Ivan Wang Austin, Texas Metropolitan Area Duke University'.\n",
      "Error fetching URL 'https://www.crunchbase.com/person/ivan-wang': 403 Client Error: Forbidden for url: https://www.crunchbase.com/person/ivan-wang\n",
      "Error fetching URL 'https://www.zoominfo.com/p/Ivan-Wang/1614154456': 429 Client Error: Too Many Requests for url: https://www.zoominfo.com/p/Ivan-Wang/1614154456\n"
     ]
    },
    {
     "name": "stderr",
     "output_type": "stream",
     "text": [
      " 96%|█████████▌| 153/160 [50:12<02:28, 21.21s/it]"
     ]
    },
    {
     "name": "stdout",
     "output_type": "stream",
     "text": [
      "Processing: Andrea Weinberg\n",
      "Found 7 URLs for query 'Andrea Weinberg New York, New York, United States Tulane University'.\n",
      "Error fetching URL 'https://www.crunchbase.com/person/andrea-weinberg-855d': 403 Client Error: Forbidden for url: https://www.crunchbase.com/person/andrea-weinberg-855d\n",
      "Error fetching URL 'https://www.whitepages.com/name/Andrea-Weinberg/NY': 403 Client Error: Forbidden for url: https://www.whitepages.com/name/Andrea-Weinberg/NY\n",
      "Error fetching URL 'https://www.dnb.com/business-directory/company-profiles.the_andi_brand_corporation.8be9ffed66af5577376c0d7cefa3a5c3.html': 403 Client Error: Forbidden for url: https://www.dnb.com/business-directory/company-profiles.the_andi_brand_corporation.8be9ffed66af5577376c0d7cefa3a5c3.html\n"
     ]
    },
    {
     "name": "stderr",
     "output_type": "stream",
     "text": [
      " 96%|█████████▋| 154/160 [50:30<02:01, 20.27s/it]"
     ]
    },
    {
     "name": "stdout",
     "output_type": "stream",
     "text": [
      "Processing: Daniel Weinstein\n",
      "Found 7 URLs for query 'Daniel Weinstein New York City Metropolitan Area University of Pennsylvania'.\n"
     ]
    },
    {
     "name": "stderr",
     "output_type": "stream",
     "text": [
      " 97%|█████████▋| 155/160 [50:55<01:48, 21.69s/it]"
     ]
    },
    {
     "name": "stdout",
     "output_type": "stream",
     "text": [
      "Processing: Jeremy Welch\n",
      "Found 7 URLs for query 'Jeremy Welch New York, New York, United States Duke University'.\n",
      "Error fetching URL 'https://www.crunchbase.com/person/jeremy-welch-4': 403 Client Error: Forbidden for url: https://www.crunchbase.com/person/jeremy-welch-4\n"
     ]
    },
    {
     "name": "stderr",
     "output_type": "stream",
     "text": [
      " 98%|█████████▊| 156/160 [51:16<01:25, 21.27s/it]"
     ]
    },
    {
     "name": "stdout",
     "output_type": "stream",
     "text": [
      "Processing: Richard West\n",
      "Found 7 URLs for query 'Richard West Durham, North Carolina, United States Duke University'.\n",
      "Error fetching URL 'https://www.crunchbase.com/person/richard-west-3': 403 Client Error: Forbidden for url: https://www.crunchbase.com/person/richard-west-3\n"
     ]
    },
    {
     "name": "stderr",
     "output_type": "stream",
     "text": [
      " 98%|█████████▊| 157/160 [51:32<00:59, 19.94s/it]"
     ]
    },
    {
     "name": "stdout",
     "output_type": "stream",
     "text": [
      "Processing: Justin Wickett\n",
      "Found 7 URLs for query 'Justin Wickett San Francisco Bay Area Duke University'.\n",
      "Error fetching URL 'https://www.crunchbase.com/person/justin-wickett': 403 Client Error: Forbidden for url: https://www.crunchbase.com/person/justin-wickett\n",
      "Error fetching URL 'https://www.crunchbase.com/organization/informed': 403 Client Error: Forbidden for url: https://www.crunchbase.com/organization/informed\n",
      "Error fetching URL 'https://wellfound.com/company/informed': 403 Client Error: Forbidden for url: https://wellfound.com/company/informed\n"
     ]
    },
    {
     "name": "stderr",
     "output_type": "stream",
     "text": [
      " 99%|█████████▉| 158/160 [51:50<00:38, 19.23s/it]"
     ]
    },
    {
     "name": "stdout",
     "output_type": "stream",
     "text": [
      "Processing: Sean Wilson\n",
      "Found 7 URLs for query 'Sean Wilson Raleigh-Durham-Chapel Hill Area Wheaton College in Illinois'.\n"
     ]
    },
    {
     "name": "stderr",
     "output_type": "stream",
     "text": [
      " 99%|█████████▉| 159/160 [52:10<00:19, 19.53s/it]"
     ]
    },
    {
     "name": "stdout",
     "output_type": "stream",
     "text": [
      "Processing: Derrick Xiong\n",
      "Found 7 URLs for query 'Derrick Xiong Los Angeles Metropolitan Area NTU Singapore'.\n",
      "Error fetching URL 'https://www.crunchbase.com/person/derrick-xiong': 403 Client Error: Forbidden for url: https://www.crunchbase.com/person/derrick-xiong\n"
     ]
    },
    {
     "name": "stderr",
     "output_type": "stream",
     "text": [
      "100%|██████████| 160/160 [52:29<00:00, 19.68s/it]"
     ]
    },
    {
     "name": "stdout",
     "output_type": "stream",
     "text": [
      "Updated data saved to updated_empty.csv.\n"
     ]
    },
    {
     "name": "stderr",
     "output_type": "stream",
     "text": [
      "\n"
     ]
    }
   ],
   "source": [
    "import pandas as pd\n",
    "import requests\n",
    "from bs4 import BeautifulSoup\n",
    "import re\n",
    "import os\n",
    "import time\n",
    "from typing import List\n",
    "from pydantic import BaseModel\n",
    "import openai\n",
    "from tqdm import tqdm\n",
    "\n",
    "# Initialize OpenAI client\n",
    "openai.api_key = os.getenv('OPENAI_API_KEY')\n",
    "\n",
    "def duckduckgo_search(query: str, max_results: int = 7) -> List[str]:\n",
    "    \"\"\"\n",
    "    Perform a DuckDuckGo search and return a list of result URLs.\n",
    "\n",
    "    Args:\n",
    "        query (str): The search query.\n",
    "        max_results (int): Maximum number of result URLs to return.\n",
    "\n",
    "    Returns:\n",
    "        List[str]: A list of URLs from the search results.\n",
    "    \"\"\"\n",
    "    search_url = \"https://html.duckduckgo.com/html/\"\n",
    "    params = {\n",
    "        'q': query\n",
    "    }\n",
    "    headers = {\n",
    "        'User-Agent': 'Mozilla/5.0'\n",
    "    }\n",
    "    try:\n",
    "        response = requests.post(search_url, data=params, headers=headers, timeout=10)\n",
    "        response.raise_for_status()\n",
    "    except Exception as e:\n",
    "        print(f\"Error during DuckDuckGo search for query '{query}': {e}\")\n",
    "        return []\n",
    "\n",
    "    soup = BeautifulSoup(response.text, 'html.parser')\n",
    "    links = []\n",
    "    for result in soup.find_all('a', {'class': 'result__a'}, href=True):\n",
    "        links.append(result['href'])\n",
    "        if len(links) >= max_results:\n",
    "            break\n",
    "    return links\n",
    "\n",
    "def extract_text(url: str, max_chars: int = 10000) -> str:\n",
    "    \"\"\"\n",
    "    Extract text content from a URL, limiting to a maximum number of characters.\n",
    "\n",
    "    Args:\n",
    "        url (str): The URL to extract text from.\n",
    "        max_chars (int): Maximum number of characters to extract.\n",
    "\n",
    "    Returns:\n",
    "        str: The extracted and cleaned text.\n",
    "    \"\"\"\n",
    "    headers = {\n",
    "        'User-Agent': 'Mozilla/5.0'\n",
    "    }\n",
    "    try:\n",
    "        response = requests.get(url, headers=headers, timeout=10)\n",
    "        response.raise_for_status()\n",
    "    except Exception as e:\n",
    "        print(f\"Error fetching URL '{url}': {e}\")\n",
    "        return \"\"\n",
    "\n",
    "    soup = BeautifulSoup(response.text, 'html.parser')\n",
    "\n",
    "    # Remove scripts and styles\n",
    "    for script in soup([\"script\", \"style\"]):\n",
    "        script.decompose()\n",
    "\n",
    "    text = soup.get_text(separator=' ', strip=True)\n",
    "    text = re.sub(r'\\s+', ' ', text)\n",
    "\n",
    "    # Limit the text to the first max_chars characters\n",
    "    return text[:max_chars]\n",
    "\n",
    "def get_search_text(query: str, max_results: int = 7, max_chars: int = 10000) -> (str, List[str]):\n",
    "    \"\"\"\n",
    "    Perform a search, extract text from result URLs, and combine the text.\n",
    "\n",
    "    Args:\n",
    "        query (str): The search query.\n",
    "        max_results (int): Number of search result URLs to process.\n",
    "        max_chars (int): Maximum number of characters to extract per URL.\n",
    "\n",
    "    Returns:\n",
    "        Tuple[str, List[str]]: Combined extracted text and list of source URLs.\n",
    "    \"\"\"\n",
    "    urls = duckduckgo_search(query, max_results)\n",
    "    print(f\"Found {len(urls)} URLs for query '{query}'.\")\n",
    "    texts = []\n",
    "    for url in urls:\n",
    "        text = extract_text(url, max_chars)\n",
    "        if text:\n",
    "            texts.append(text)\n",
    "        time.sleep(1)  # Respectful delay between requests\n",
    "    combined_text = \"\\n\\n\".join(texts)\n",
    "    return combined_text, urls\n",
    "\n",
    "\n",
    "class GPTResponse(BaseModel):\n",
    "    prof_summary: str\n",
    "    early_career: str\n",
    "    mid_career: str\n",
    "    late_career: str\n",
    "    key_achievements: str\n",
    "    motivation: str\n",
    "    vision_mission: str\n",
    "    personal_input: str\n",
    "    sources: List[str]\n",
    "\n",
    "\n",
    "\n",
    "def generate_structured_output(person_name: str, location: str, university: str, combined_text: str, sources: List[str]) -> GPTResponse:\n",
    "\n",
    "    prompt = f\"\"\"\n",
    "    Based on the following information, fill out the professional summary, early career, mid career, late career, key achievements, motivation, vision/mission, personal input, and sources for {person_name}.\n",
    "\n",
    "    Location: {location}\n",
    "    University: {university}\n",
    "\n",
    "    Extracted Information:\n",
    "    {combined_text}\n",
    "\n",
    "    Requirements:\n",
    "    - prof_summary: A concise professional summary.\n",
    "    - early_career: Description of early career stages.\n",
    "    - mid_career: Description of mid-career stages.\n",
    "    - late_career: Description of late career stages.\n",
    "    - key_achievements: Highlight key achievements.\n",
    "    - motivation: What motivated the person in their career.\n",
    "    - vision_mission: The person's vision or mission.\n",
    "    - personal_input: Personal insights or quotes.\n",
    "    - sources: List the provided source URLs.\n",
    "\n",
    "    Please provide the output in the following JSON format:\n",
    "\n",
    "    {{\n",
    "      \"fields\": {{\n",
    "        \"prof_summary\": \"\",\n",
    "        \"early_career\": \"\",\n",
    "        \"mid_career\": \"\",\n",
    "        \"late_career\": \"\",\n",
    "        \"key_achievements\": \"\",\n",
    "        \"motivation\": \"\",\n",
    "        \"vision_mission\": \"\",\n",
    "        \"personal_input\": \"\",\n",
    "        \"sources\": []\n",
    "      }}\n",
    "    }}\n",
    "    \"\"\"\n",
    "\n",
    "    response = openai.beta.chat.completions.parse(\n",
    "        model=\"gpt-4o-mini\",\n",
    "        messages=[\n",
    "            {\"role\": \"system\", \"content\": \"You are an assistant that structures professional profiles based on provided information.\"},\n",
    "            {\"role\": \"user\", \"content\": prompt}\n",
    "        ],\n",
    "        response_format=GPTResponse,\n",
    "    )\n",
    "    return response.choices[0].message.parsed\n",
    "\n",
    "\n",
    "# Load the CSV file\n",
    "csv_file_path = 'empty.csv'  # Replace with your actual CSV file path\n",
    "df = pd.read_csv(csv_file_path)\n",
    "\n",
    "# Define the fields to be filled\n",
    "fields_to_fill = ['prof summary', 'early career', 'mid career', 'late career',\n",
    "                 'key achievements', 'motivation', 'vision/mission', 'personal input', 'sources']\n",
    "\n",
    "# Check and create missing columns\n",
    "for field in fields_to_fill:\n",
    "    if field not in df.columns:\n",
    "        df[field] = \"\"\n",
    "\n",
    "# # Display the first few rows to verify\n",
    "# df.head()\n",
    "\n",
    "def process_person(row):\n",
    "    person_name = row['founder']\n",
    "    location = row['location']\n",
    "    university = row['UG school']\n",
    "    \n",
    "    query = f\"{person_name} {location} {university}\"\n",
    "    print(f\"Processing: {person_name}\")\n",
    "    \n",
    "    combined_text, sources = get_search_text(query)\n",
    "    \n",
    "    if not combined_text:\n",
    "        print(f\"No text extracted for {person_name}. Skipping.\")\n",
    "        return row\n",
    "    \n",
    "    structured_output = generate_structured_output(person_name, location, university, combined_text, sources)\n",
    "    \n",
    "    # Update the DataFrame row with the structured output\n",
    "    row['prof summary'] = structured_output.prof_summary\n",
    "    row['early career'] = structured_output.early_career\n",
    "    row['mid career'] = structured_output.mid_career\n",
    "    row['late career'] = structured_output.late_career\n",
    "    row['key achievements'] = structured_output.key_achievements\n",
    "    row['motivation'] = structured_output.motivation\n",
    "    row['vision/mission'] = structured_output.vision_mission\n",
    "    row['personal input'] = structured_output.personal_input\n",
    "    row['sources'] = \", \".join(structured_output.sources)\n",
    "    \n",
    "    # Respectful delay to avoid hitting rate limits\n",
    "    time.sleep(2)\n",
    "    \n",
    "    return row\n",
    "\n",
    "\n",
    "# Initialize tqdm for progress visualization\n",
    "total_rows = df.shape[0]\n",
    "with tqdm(total=total_rows) as pbar:\n",
    "    for index, row in df.iterrows():\n",
    "        if pd.isna(row['prof summary']) or row['prof summary'] == \"\":\n",
    "            try:\n",
    "                df.loc[index] = process_person(row)\n",
    "            except Exception as e:\n",
    "                print(f\"Error processing row {index} for {row['founder']}: {e}\")\n",
    "        else:\n",
    "            print(f\"Skipping {row['founder']} as 'prof summary' already exists.\")\n",
    "        \n",
    "        # Update progress bar\n",
    "        pbar.update(1)\n",
    "        \n",
    "        # Optional: Save progress periodically every 10 rows\n",
    "        if index % 10 == 0 and index != 0:\n",
    "            df.to_csv('updated_empty.csv', index=False)\n",
    "            print(f\"Progress saved at row {index}.\")\n",
    "\n",
    "\n",
    "# Save the updated DataFrame to a new CSV file\n",
    "updated_csv_file_path = 'updated_empty.csv'  # You can change the file name as needed\n",
    "df.to_csv(updated_csv_file_path, index=False)\n",
    "print(f\"Updated data saved to {updated_csv_file_path}.\")\n"
   ]
  }
 ],
 "metadata": {
  "kernelspec": {
   "display_name": "base",
   "language": "python",
   "name": "python3"
  },
  "language_info": {
   "name": "python",
   "version": "3.12.4"
  }
 },
 "nbformat": 4,
 "nbformat_minor": 2
}
